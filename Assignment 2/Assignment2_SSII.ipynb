{
  "cells": [
    {
      "cell_type": "markdown",
      "id": "0906f322",
      "metadata": {
        "id": "0906f322"
      },
      "source": [
        "<a id=\"inicio\"></a>\n",
        "<img src=\"./figs/barra_uclm_esiiab.png\" alt=\"Banner UCLM - ESIIAB\" align=\"right\">"
      ]
    },
    {
      "cell_type": "markdown",
      "id": "75a230e2",
      "metadata": {
        "id": "75a230e2",
        "tags": []
      },
      "source": [
        "<br><br><br>\n",
        "<h1><font color=\"#B30033\" size=5>Intelligent Systems - Course 2021-2022</font></h1>\n",
        "\n",
        "\n",
        "\n",
        "<h1><font color=\"#B30033\" size=5>Assignment 2: Heuristic Search Algorithms</font></h1>\n",
        "\n",
        "\n",
        "<br>\n",
        "<div style=\"text-align: left\">\n",
        "<font color=\"#4E70BE\" size=3>Lecturers:</font><br>\n",
        "<ul>\n",
        "  <li><font color=\"#4E70BE\" size=3>Juan Carlos Alfaro Jiménez</font><br></li>\n",
        "  <li><font color=\"#4E70BE\" size=3>Guillermo Tomás Fernández Martín</font><br></li>\n",
        "  <li><font color=\"#4E70BE\" size=3>José Antonio Gámez Martín</font><br></li>\n",
        "  <li><font color=\"#4E70BE\" size=3>Ismael García Varea</font><br></li>\n",
        "  <li><font color=\"#4E70BE\" size=3>Luis González Naharro</font><br></li>\n",
        "  <li><font color=\"#4E70BE\" size=3>Jesús Martínez Gómez</font><br></li>    \n",
        "</ul>\n",
        "</div>\n",
        "\n",
        "<div style=\"text-align: left\">\n",
        "<font color=\"#4E70BE\" size=3>Students:</font><br>\n",
        "<ul>\n",
        "  <li><font color=\"#4E70BE\" size=3>Pablo Lario Gómez</font><br></li>\n",
        "  <li><font color=\"#4E70BE\" size=3>Diego Miguel López</font><br></li>   \n",
        "</ul>\n",
        "</div>\n",
        "\n",
        "<br>"
      ]
    },
    {
      "cell_type": "markdown",
      "id": "d52856f3",
      "metadata": {
        "id": "d52856f3"
      },
      "source": [
        "## Introduction\n",
        "In this assignment we will study and put into practice cost-based and informed, aka heuristic, search algorithms. To do that, some algorithms studied in units 2 and 3 will be implemented and used to solve the same problem we faced with in Assignment 1: maze pathfinding.\n",
        "We will also analyze and compare the performance of the algorithms by running them over different instances of the problem."
      ]
    },
    {
      "cell_type": "markdown",
      "id": "c7196c10",
      "metadata": {
        "id": "c7196c10"
      },
      "source": [
        "## Problem description\n",
        "For the sake of completeness we also include the description of the problem in this assignment.\n",
        "\n",
        "The maze is a grid of size N x M formed by a set of cells, some of which can be occupied by walls, which cannot be crossed. The rest of the cells will be empty and they will represent the free space. For now, the robot can only move horizontally or vertically. In addition, we can have cells with garbage, which must be cleaned by our agent, a vacuum cleaner robot."
      ]
    },
    {
      "cell_type": "markdown",
      "id": "01c7ecdc",
      "metadata": {
        "id": "01c7ecdc"
      },
      "source": [
        "The objective of our robot is to clean the whole area as fast as possible. In other words: **find the shortest path to find all the garbage cells in the environment**. In order to implement our robot we have to take into account that: \n",
        "- The robot can start in a random cell of the map.\n",
        "- The robot can move horizontally or vertically in the maze.\n",
        "- The robot can not cross walls or go beyond the limits of the maze.\n",
        "- The robot will have to clean all the garbage cells found in the map, which will be automatically cleaned as soon as the robot arrives to those cells.\n",
        "- For now, all the movements of the robot will have a cost of 1.\n",
        "- The search will finish once all garbage cells in the map have been cleaned."
      ]
    },
    {
      "cell_type": "markdown",
      "id": "1b7618ae",
      "metadata": {
        "id": "1b7618ae"
      },
      "source": [
        "## Provided code\n",
        "\n",
        "In the following we provide you some of the clases, implemented in `Python` that will help you to develop this assignment. \n",
        "\n",
        "First, we will import the necessary classes we need from the Python libraries"
      ]
    },
    {
      "cell_type": "code",
      "execution_count": 112,
      "id": "03362428",
      "metadata": {
        "id": "03362428"
      },
      "outputs": [],
      "source": [
        "import math\n",
        "import copy\n",
        "from time import perf_counter\n",
        "from queue import PriorityQueue\n",
        "\n",
        "from abc import ABC, abstractmethod\n"
      ]
    },
    {
      "cell_type": "markdown",
      "id": "a5ab3eee",
      "metadata": {
        "id": "a5ab3eee"
      },
      "source": [
        "Next, we will import some custom functions from the file `utils.py`. You don't need to modify those functions for the code to work, but feel free to have a look at them if you are curious. This code is identical to the one provided in Assignment 1."
      ]
    },
    {
      "cell_type": "code",
      "execution_count": 113,
      "id": "2a296d75",
      "metadata": {
        "id": "2a296d75"
      },
      "outputs": [],
      "source": [
        "from utils import *"
      ]
    },
    {
      "cell_type": "markdown",
      "id": "32e0f143-b9a4-4203-b5cb-69c425ebcd46",
      "metadata": {
        "id": "32e0f143-b9a4-4203-b5cb-69c425ebcd46"
      },
      "source": [
        "Finally, we will import some third party libraries. We will use those to display the problem in a graphical environment. In order to do that, we will use the magic functions from jupyter to install the library from inside the notebook"
      ]
    },
    {
      "cell_type": "code",
      "execution_count": 114,
      "id": "1ec03523-7180-44c6-b61c-2a2ac0483e24",
      "metadata": {
        "colab": {
          "base_uri": "https://localhost:8080/"
        },
        "id": "1ec03523-7180-44c6-b61c-2a2ac0483e24",
        "outputId": "76514fbd-25c4-46c2-ca3c-52f2106288fc"
      },
      "outputs": [
        {
          "name": "stdout",
          "output_type": "stream",
          "text": [
            "Requirement already satisfied: ipythonblocks in c:\\users\\49427234\\appdata\\local\\programs\\python\\python310\\lib\\site-packages (1.9.0)\n",
            "Requirement already satisfied: requests>=1.0 in c:\\users\\49427234\\appdata\\local\\programs\\python\\python310\\lib\\site-packages (from ipythonblocks) (2.26.0)\n",
            "Requirement already satisfied: ipython>=4.0 in c:\\users\\49427234\\appdata\\local\\programs\\python\\python310\\lib\\site-packages (from ipythonblocks) (7.28.0)\n",
            "Requirement already satisfied: notebook>=4.0 in c:\\users\\49427234\\appdata\\local\\programs\\python\\python310\\lib\\site-packages (from ipythonblocks) (6.4.5)\n",
            "Requirement already satisfied: matplotlib-inline in c:\\users\\49427234\\appdata\\local\\programs\\python\\python310\\lib\\site-packages (from ipython>=4.0->ipythonblocks) (0.1.3)\n",
            "Requirement already satisfied: pickleshare in c:\\users\\49427234\\appdata\\local\\programs\\python\\python310\\lib\\site-packages (from ipython>=4.0->ipythonblocks) (0.7.5)\n",
            "Requirement already satisfied: traitlets>=4.2 in c:\\users\\49427234\\appdata\\local\\programs\\python\\python310\\lib\\site-packages (from ipython>=4.0->ipythonblocks) (5.1.1)\n",
            "Requirement already satisfied: pygments in c:\\users\\49427234\\appdata\\local\\programs\\python\\python310\\lib\\site-packages (from ipython>=4.0->ipythonblocks) (2.10.0)\n",
            "Requirement already satisfied: jedi>=0.16 in c:\\users\\49427234\\appdata\\local\\programs\\python\\python310\\lib\\site-packages (from ipython>=4.0->ipythonblocks) (0.18.0)\n",
            "Requirement already satisfied: colorama in c:\\users\\49427234\\appdata\\local\\programs\\python\\python310\\lib\\site-packages (from ipython>=4.0->ipythonblocks) (0.4.4)\n",
            "Requirement already satisfied: prompt-toolkit!=3.0.0,!=3.0.1,<3.1.0,>=2.0.0 in c:\\users\\49427234\\appdata\\local\\programs\\python\\python310\\lib\\site-packages (from ipython>=4.0->ipythonblocks) (3.0.21)\n",
            "Requirement already satisfied: decorator in c:\\users\\49427234\\appdata\\local\\programs\\python\\python310\\lib\\site-packages (from ipython>=4.0->ipythonblocks) (5.1.0)\n",
            "Requirement already satisfied: setuptools>=18.5 in c:\\users\\49427234\\appdata\\local\\programs\\python\\python310\\lib\\site-packages (from ipython>=4.0->ipythonblocks) (57.4.0)\n",
            "Requirement already satisfied: backcall in c:\\users\\49427234\\appdata\\local\\programs\\python\\python310\\lib\\site-packages (from ipython>=4.0->ipythonblocks) (0.2.0)\n",
            "Requirement already satisfied: parso<0.9.0,>=0.8.0 in c:\\users\\49427234\\appdata\\local\\programs\\python\\python310\\lib\\site-packages (from jedi>=0.16->ipython>=4.0->ipythonblocks) (0.8.2)\n",
            "Requirement already satisfied: tornado>=6.1 in c:\\users\\49427234\\appdata\\local\\programs\\python\\python310\\lib\\site-packages (from notebook>=4.0->ipythonblocks) (6.1)\n",
            "Requirement already satisfied: jinja2 in c:\\users\\49427234\\appdata\\local\\programs\\python\\python310\\lib\\site-packages (from notebook>=4.0->ipythonblocks) (3.0.2)\n",
            "Requirement already satisfied: Send2Trash>=1.5.0 in c:\\users\\49427234\\appdata\\local\\programs\\python\\python310\\lib\\site-packages (from notebook>=4.0->ipythonblocks) (1.8.0)\n",
            "Requirement already satisfied: jupyter-client>=5.3.4 in c:\\users\\49427234\\appdata\\local\\programs\\python\\python310\\lib\\site-packages (from notebook>=4.0->ipythonblocks) (7.0.6)\n",
            "Requirement already satisfied: ipython-genutils in c:\\users\\49427234\\appdata\\local\\programs\\python\\python310\\lib\\site-packages (from notebook>=4.0->ipythonblocks) (0.2.0)\n",
            "Requirement already satisfied: pyzmq>=17 in c:\\users\\49427234\\appdata\\local\\programs\\python\\python310\\lib\\site-packages (from notebook>=4.0->ipythonblocks) (22.3.0)\n",
            "Requirement already satisfied: ipykernel in c:\\users\\49427234\\appdata\\local\\programs\\python\\python310\\lib\\site-packages (from notebook>=4.0->ipythonblocks) (6.4.2)\n",
            "Requirement already satisfied: terminado>=0.8.3 in c:\\users\\49427234\\appdata\\local\\programs\\python\\python310\\lib\\site-packages (from notebook>=4.0->ipythonblocks) (0.9.5)\n",
            "Requirement already satisfied: prometheus-client in c:\\users\\49427234\\appdata\\local\\programs\\python\\python310\\lib\\site-packages (from notebook>=4.0->ipythonblocks) (0.11.0)\n",
            "Requirement already satisfied: nbformat in c:\\users\\49427234\\appdata\\local\\programs\\python\\python310\\lib\\site-packages (from notebook>=4.0->ipythonblocks) (5.1.3)\n",
            "Requirement already satisfied: argon2-cffi in c:\\users\\49427234\\appdata\\local\\programs\\python\\python310\\lib\\site-packages (from notebook>=4.0->ipythonblocks) (21.1.0)\n",
            "Requirement already satisfied: nbconvert in c:\\users\\49427234\\appdata\\local\\programs\\python\\python310\\lib\\site-packages (from notebook>=4.0->ipythonblocks) (6.2.0)\n",
            "Requirement already satisfied: jupyter-core>=4.6.1 in c:\\users\\49427234\\appdata\\local\\programs\\python\\python310\\lib\\site-packages (from notebook>=4.0->ipythonblocks) (4.9.1)\n",
            "Requirement already satisfied: nest-asyncio>=1.5 in c:\\users\\49427234\\appdata\\local\\programs\\python\\python310\\lib\\site-packages (from jupyter-client>=5.3.4->notebook>=4.0->ipythonblocks) (1.5.1)\n",
            "Requirement already satisfied: python-dateutil>=2.1 in c:\\users\\49427234\\appdata\\local\\programs\\python\\python310\\lib\\site-packages (from jupyter-client>=5.3.4->notebook>=4.0->ipythonblocks) (2.8.2)\n",
            "Requirement already satisfied: entrypoints in c:\\users\\49427234\\appdata\\local\\programs\\python\\python310\\lib\\site-packages (from jupyter-client>=5.3.4->notebook>=4.0->ipythonblocks) (0.3)\n",
            "Requirement already satisfied: pywin32>=1.0 in c:\\users\\49427234\\appdata\\local\\programs\\python\\python310\\lib\\site-packages (from jupyter-core>=4.6.1->notebook>=4.0->ipythonblocks) (302)\n",
            "Requirement already satisfied: wcwidth in c:\\users\\49427234\\appdata\\local\\programs\\python\\python310\\lib\\site-packages (from prompt-toolkit!=3.0.0,!=3.0.1,<3.1.0,>=2.0.0->ipython>=4.0->ipythonblocks) (0.2.5)\n",
            "Requirement already satisfied: six>=1.5 in c:\\users\\49427234\\appdata\\local\\programs\\python\\python310\\lib\\site-packages (from python-dateutil>=2.1->jupyter-client>=5.3.4->notebook>=4.0->ipythonblocks) (1.16.0)\n",
            "Requirement already satisfied: certifi>=2017.4.17 in c:\\users\\49427234\\appdata\\local\\programs\\python\\python310\\lib\\site-packages (from requests>=1.0->ipythonblocks) (2021.10.8)\n",
            "Requirement already satisfied: charset-normalizer~=2.0.0 in c:\\users\\49427234\\appdata\\local\\programs\\python\\python310\\lib\\site-packages (from requests>=1.0->ipythonblocks) (2.0.7)\n",
            "Requirement already satisfied: urllib3<1.27,>=1.21.1 in c:\\users\\49427234\\appdata\\local\\programs\\python\\python310\\lib\\site-packages (from requests>=1.0->ipythonblocks) (1.26.7)\n",
            "Requirement already satisfied: idna<4,>=2.5 in c:\\users\\49427234\\appdata\\local\\programs\\python\\python310\\lib\\site-packages (from requests>=1.0->ipythonblocks) (3.3)\n",
            "Requirement already satisfied: pywinpty<1,>=0.5 in c:\\users\\49427234\\appdata\\local\\programs\\python\\python310\\lib\\site-packages (from terminado>=0.8.3->notebook>=4.0->ipythonblocks) (0.5.7)\n",
            "Requirement already satisfied: cffi>=1.0.0 in c:\\users\\49427234\\appdata\\local\\programs\\python\\python310\\lib\\site-packages (from argon2-cffi->notebook>=4.0->ipythonblocks) (1.15.0)\n",
            "Requirement already satisfied: pycparser in c:\\users\\49427234\\appdata\\local\\programs\\python\\python310\\lib\\site-packages (from cffi>=1.0.0->argon2-cffi->notebook>=4.0->ipythonblocks) (2.20)\n",
            "Requirement already satisfied: debugpy<2.0,>=1.0.0 in c:\\users\\49427234\\appdata\\local\\programs\\python\\python310\\lib\\site-packages (from ipykernel->notebook>=4.0->ipythonblocks) (1.5.1)\n",
            "Requirement already satisfied: MarkupSafe>=2.0 in c:\\users\\49427234\\appdata\\local\\programs\\python\\python310\\lib\\site-packages (from jinja2->notebook>=4.0->ipythonblocks) (2.0.1)\n",
            "Requirement already satisfied: bleach in c:\\users\\49427234\\appdata\\local\\programs\\python\\python310\\lib\\site-packages (from nbconvert->notebook>=4.0->ipythonblocks) (4.1.0)\n",
            "Requirement already satisfied: pandocfilters>=1.4.1 in c:\\users\\49427234\\appdata\\local\\programs\\python\\python310\\lib\\site-packages (from nbconvert->notebook>=4.0->ipythonblocks) (1.5.0)\n",
            "Requirement already satisfied: testpath in c:\\users\\49427234\\appdata\\local\\programs\\python\\python310\\lib\\site-packages (from nbconvert->notebook>=4.0->ipythonblocks) (0.5.0)\n",
            "Requirement already satisfied: nbclient<0.6.0,>=0.5.0 in c:\\users\\49427234\\appdata\\local\\programs\\python\\python310\\lib\\site-packages (from nbconvert->notebook>=4.0->ipythonblocks) (0.5.4)\n",
            "Requirement already satisfied: jupyterlab-pygments in c:\\users\\49427234\\appdata\\local\\programs\\python\\python310\\lib\\site-packages (from nbconvert->notebook>=4.0->ipythonblocks) (0.1.2)\n",
            "Requirement already satisfied: defusedxml in c:\\users\\49427234\\appdata\\local\\programs\\python\\python310\\lib\\site-packages (from nbconvert->notebook>=4.0->ipythonblocks) (0.7.1)\n",
            "Requirement already satisfied: mistune<2,>=0.8.1 in c:\\users\\49427234\\appdata\\local\\programs\\python\\python310\\lib\\site-packages (from nbconvert->notebook>=4.0->ipythonblocks) (0.8.4)\n",
            "Requirement already satisfied: jsonschema!=2.5.0,>=2.4 in c:\\users\\49427234\\appdata\\local\\programs\\python\\python310\\lib\\site-packages (from nbformat->notebook>=4.0->ipythonblocks) (4.1.2)\n",
            "Requirement already satisfied: attrs>=17.4.0 in c:\\users\\49427234\\appdata\\local\\programs\\python\\python310\\lib\\site-packages (from jsonschema!=2.5.0,>=2.4->nbformat->notebook>=4.0->ipythonblocks) (21.2.0)\n",
            "Requirement already satisfied: pyrsistent!=0.17.0,!=0.17.1,!=0.17.2,>=0.14.0 in c:\\users\\49427234\\appdata\\local\\programs\\python\\python310\\lib\\site-packages (from jsonschema!=2.5.0,>=2.4->nbformat->notebook>=4.0->ipythonblocks) (0.18.0)\n",
            "Requirement already satisfied: packaging in c:\\users\\49427234\\appdata\\local\\programs\\python\\python310\\lib\\site-packages (from bleach->nbconvert->notebook>=4.0->ipythonblocks) (21.0)\n",
            "Requirement already satisfied: webencodings in c:\\users\\49427234\\appdata\\local\\programs\\python\\python310\\lib\\site-packages (from bleach->nbconvert->notebook>=4.0->ipythonblocks) (0.5.1)\n",
            "Requirement already satisfied: pyparsing>=2.0.2 in c:\\users\\49427234\\appdata\\local\\programs\\python\\python310\\lib\\site-packages (from packaging->bleach->nbconvert->notebook>=4.0->ipythonblocks) (3.0.3)\n"
          ]
        },
        {
          "name": "stderr",
          "output_type": "stream",
          "text": [
            "WARNING: You are using pip version 21.2.3; however, version 21.3.1 is available.\n",
            "You should consider upgrading via the 'C:\\Users\\49427234\\AppData\\Local\\Programs\\Python\\Python310\\python.exe -m pip install --upgrade pip' command.\n"
          ]
        },
        {
          "name": "stdout",
          "output_type": "stream",
          "text": [
            "Requirement already satisfied: pip in c:\\users\\49427234\\appdata\\local\\programs\\python\\python310\\lib\\site-packages (21.2.3)\n"
          ]
        },
        {
          "name": "stderr",
          "output_type": "stream",
          "text": [
            "WARNING: You are using pip version 21.2.3; however, version 21.3.1 is available.\n",
            "You should consider upgrading via the 'C:\\Users\\49427234\\AppData\\Local\\Programs\\Python\\Python310\\python.exe -m pip install --upgrade pip' command.\n"
          ]
        },
        {
          "name": "stdout",
          "output_type": "stream",
          "text": [
            "Requirement already satisfied: matplotlib in c:\\users\\49427234\\appdata\\local\\programs\\python\\python310\\lib\\site-packages (3.4.3)\n",
            "Requirement already satisfied: cycler>=0.10 in c:\\users\\49427234\\appdata\\local\\programs\\python\\python310\\lib\\site-packages (from matplotlib) (0.10.0)\n",
            "Requirement already satisfied: kiwisolver>=1.0.1 in c:\\users\\49427234\\appdata\\local\\programs\\python\\python310\\lib\\site-packages (from matplotlib) (1.3.2)\n",
            "Requirement already satisfied: numpy>=1.16 in c:\\users\\49427234\\appdata\\local\\programs\\python\\python310\\lib\\site-packages (from matplotlib) (1.21.3)\n",
            "Requirement already satisfied: pillow>=6.2.0 in c:\\users\\49427234\\appdata\\local\\programs\\python\\python310\\lib\\site-packages (from matplotlib) (8.4.0)\n",
            "Requirement already satisfied: pyparsing>=2.2.1 in c:\\users\\49427234\\appdata\\local\\programs\\python\\python310\\lib\\site-packages (from matplotlib) (3.0.3)\n",
            "Requirement already satisfied: python-dateutil>=2.7 in c:\\users\\49427234\\appdata\\local\\programs\\python\\python310\\lib\\site-packages (from matplotlib) (2.8.2)\n",
            "Requirement already satisfied: six in c:\\users\\49427234\\appdata\\local\\programs\\python\\python310\\lib\\site-packages (from cycler>=0.10->matplotlib) (1.16.0)\n"
          ]
        },
        {
          "name": "stderr",
          "output_type": "stream",
          "text": [
            "WARNING: You are using pip version 21.2.3; however, version 21.3.1 is available.\n",
            "You should consider upgrading via the 'C:\\Users\\49427234\\AppData\\Local\\Programs\\Python\\Python310\\python.exe -m pip install --upgrade pip' command.\n"
          ]
        }
      ],
      "source": [
        "!pip install ipythonblocks\n",
        "!pip install pip\n",
        "!pip install matplotlib"
      ]
    },
    {
      "cell_type": "code",
      "execution_count": 115,
      "id": "a2f973ce-6270-40de-9263-7e045e9305d6",
      "metadata": {
        "id": "a2f973ce-6270-40de-9263-7e045e9305d6"
      },
      "outputs": [],
      "source": [
        "from ipythonblocks import BlockGrid\n",
        "from IPython.display import clear_output"
      ]
    },
    {
      "cell_type": "markdown",
      "id": "cedc447b",
      "metadata": {
        "id": "cedc447b"
      },
      "source": [
        "In order to complete the requested search algorithms, we provide you some fundamental classes: "
      ]
    },
    {
      "cell_type": "markdown",
      "id": "8e4525ac",
      "metadata": {
        "id": "8e4525ac"
      },
      "source": [
        "#### Class `Action`\n",
        "This class provides the **representation of the actions** that will be performed by the robot. You don't have to modify the code of this class. The possible actions will be: \"UP\", \"DOWN\", \"RIGHT\", \"LEFT\". This class is identical to the one provided in Assignment and, for the moment, the cost of all actions is kept at the value of 1.0."
      ]
    },
    {
      "cell_type": "code",
      "execution_count": 116,
      "id": "ca68a21b",
      "metadata": {
        "id": "ca68a21b"
      },
      "outputs": [],
      "source": [
        "class Action:\n",
        "    #actions = [\"UP\", \"DOWN\", \"RIGHT\", \"LEFT\"]\n",
        "\n",
        "    def __init__(self, move):\n",
        "        self.move = move\n",
        "\n",
        "    def __str__(self):\n",
        "        return f\"({self.move})\"\n",
        "\n",
        "    def getCost(self):\n",
        "        return 1.0"
      ]
    },
    {
      "cell_type": "markdown",
      "id": "0166a409",
      "metadata": {
        "id": "0166a409"
      },
      "source": [
        "#### Class `State`. \n",
        "This class provides the **representation of a state** in the search space. In this problem, a state is defined by the position of the robot and the garbages left in the maze. Note that the maze itself does not need to be part of the state given that it does not change during the search, i.e. walls are fixed during the search. You don't have to modify the code of this class.\n",
        "\n",
        "The class `State` has an `applyAction` method that, given a valid `Action`, returns a new `State` with the action applied. This class is identical to the one provided in Assignment 1."
      ]
    },
    {
      "cell_type": "code",
      "execution_count": 117,
      "id": "dd19d7e1",
      "metadata": {
        "id": "dd19d7e1"
      },
      "outputs": [],
      "source": [
        "class State:\n",
        "\n",
        "    def __init__(self, pos, garbage):\n",
        "        self.pos = pos\n",
        "        self.garbage = garbage\n",
        "\n",
        "    # equals method. Returns true if the states are the same. \n",
        "    # Used for the hash table comparison, compares if both states are equal\n",
        "    def __eq__(self, state):\n",
        "        return self.pos == state.pos and self.garbage == state.garbage\n",
        "\n",
        "    def __str__(self):\n",
        "        return f\"Position: {self.pos}\\nGarbage: {self.garbage}\"\n",
        "\n",
        "    # hash method. Useful to index data structures that uses a hash function \n",
        "    #    to index elements, i.e. a Set()\n",
        "    def __hash__(self):\n",
        "        h = 0\n",
        "        for g in self.garbage:\n",
        "            h += (math.pow(10,3) * (self.pos[0]+1) + (self.pos[1]+2))\n",
        "        return int(h)\n",
        "\n",
        "    def applyAction(self, action):\n",
        "        st = copy.deepcopy(self)\n",
        "        \n",
        "        if (action.move == \"UP\"):\n",
        "            st.pos = (st.pos[0]-1,st.pos[1])\n",
        "        elif (action.move == \"DOWN\"):\n",
        "            st.pos = (st.pos[0]+1,st.pos[1])\n",
        "        elif (action.move == \"RIGHT\"):\n",
        "            st.pos = (st.pos[0],st.pos[1]+1)\n",
        "        elif (action.move == \"LEFT\"):\n",
        "            st.pos = (st.pos[0],st.pos[1]-1)\n",
        "        else:\n",
        "            print(\"\\n*** ERROR ***: Action \" + action + \"  is not allowed .....\\n\")\n",
        "            sys.exit()\n",
        "            \n",
        "        # if the new position has garbage clean it\n",
        "        if (st.pos in st.garbage):\n",
        "            st.garbage.remove(st.pos)\n",
        "        \n",
        "        return st"
      ]
    },
    {
      "cell_type": "markdown",
      "id": "2bd44eb5",
      "metadata": {
        "id": "2bd44eb5"
      },
      "source": [
        "#### Class `Node`. \n",
        "This class provides a **representation of a node** in the search tree/graph. It contains the state it represents, its parent node and the action taken to reach the current node. You don't have to modify this class. \n",
        "\n",
        "The class `Node` also has some methods to provide access to its attributes.\n",
        "\n",
        "**This implementation slightly differs** from the one provided in Assignment 1. Concretely:\n",
        "- In addition to the `self.gGost` (cost to reach the node), two new attributes are defined: `self.hCost` and `self.fCost`, which are needed to store the heuristic and total cost of a specific node. These attributes should be conveniently assigned during the search process, accoding to the specific search strategy.\n",
        "- Correspondingly two new methods are included: `getHCost(self)` and `getFCost(self)`\n",
        "- The `__hash__` method, is a special method useful to index data structures that uses a hash function to index elements.\n",
        "- The `__lt__` method, is a special method that defines the behaviour of the less-than operator (`<`) for objects of this class. In our case it is defined according to the value of the attribute `self.fCost`."
      ]
    },
    {
      "cell_type": "code",
      "execution_count": 118,
      "id": "33347466",
      "metadata": {
        "id": "33347466"
      },
      "outputs": [],
      "source": [
        "class Node:\n",
        "    def __init__(self, state, parent, action):\n",
        "        self.state = state # Must be State Class\n",
        "        self.parent = parent # Must be Node Class\n",
        "        self.action = action # Must be Action Class\n",
        "        self.depth = 0\n",
        "        self.gCost, self.hCost, self.fCost = 0.0, 0.0, 0.0\n",
        "\n",
        "    def __str__(self):\n",
        "        return f\"depth: {self.depth} fcost: {self.fCost}, ({self.gCost} + {self.hCost}), state: {self.state}\"\n",
        "\n",
        "    # equal method. Returns true if the states are the same. Used for the hash table comparison\n",
        "    # compares if both states are equals\n",
        "    def __eq__(self, other):\n",
        "        if not isinstance(other, Node):\n",
        "        # don't attempt to compare against unrelated types\n",
        "            return NotImplemented\n",
        "        return self.state == other.state\n",
        "\n",
        "    # hash method. Useful to index data structures that uses a hash function \n",
        "    # to index elements, i.e. a Set()\n",
        "    def __hash__(self):\n",
        "        h = 0\n",
        "        for g in self.state.garbage:\n",
        "            h += (math.pow(10,3) * (self.state.pos[0]+1) + (self.state.pos[1]+2))\n",
        "        return int(h)\n",
        "\n",
        "    def __lt__(self, other):\n",
        "        if not isinstance(other, Node):\n",
        "            # don't attempt to compare against unrelated types\n",
        "            return NotImplemented\n",
        "        return self.fCost < other.fCost\n",
        "\n",
        "    def getState(self):\n",
        "        return self.state\n",
        "\n",
        "    def getAction(self):\n",
        "        return self.action\n",
        "    \n",
        "    def getParent(self):\n",
        "        return self.parent\n",
        "\n",
        "    def getDepth(self):\n",
        "        return self.depth\n",
        "    \n",
        "    def getGCost(self):\n",
        "        return self.gCost\n",
        "    \n",
        "    def getHCost(self):\n",
        "        return self.hCost\n",
        "\n",
        "    def getFCost(self):\n",
        "        return self.fCost\n",
        "    "
      ]
    },
    {
      "cell_type": "markdown",
      "id": "b2764c4b",
      "metadata": {
        "id": "b2764c4b"
      },
      "source": [
        "## Implementation\n",
        "In the following we provide you some classes and pieces of code that you will have to complete as a part of this assignment.\n",
        "\n",
        "\n",
        "#### Class `Problem`\n",
        "As in Assignment 1, this class provides the **representation of the search problem**. It contains the size of the maze (`rows` and `cols`), the `initialState` and the `maze`. This class can read from a file an instance of the problem to solve, or it can generate a random instance using the size of the grid, the `seed`, the maximum number of divisions (walls) in the maze and the list of garbage cells. You don't have to modify this class. \n",
        "\n",
        "The class `Problem` also has some methods to provide access to the initial state, the possible actions and to check if a specific state is the final/goal.\n",
        "\n",
        "##### Heuristic functions\n",
        "In this assignment you have to implement a new method, `computeHeuristic(self, st)`, in this class. This method should compute the heuristic cost of a given state, passed as argument. We have included this method in the `Problem` class because typically the computation of the heuristic cost (or distance) highly depends on the problem to solve.\n",
        "\n",
        "It is mandatory to define and implement at least two different heuristic functions and to empirically compare them. This study should be included in the final report of this assignments, but you have to be sure that both heuristic functions are admissible and consistent. The proof of admissibility and consistency of all proposed heuristic functions also has to be included in the final report."
      ]
    },
    {
      "cell_type": "code",
      "execution_count": 119,
      "id": "30f9c989",
      "metadata": {
        "id": "30f9c989"
      },
      "outputs": [],
      "source": [
        "class Problem:\n",
        "\n",
        "    actions = [\"UP\", \"DOWN\", \"RIGHT\", \"LEFT\"]\n",
        "\n",
        "    def __init__(self, rows, cols, seed, maxDivisions, garbageCount, filename=\"\"):\n",
        "\n",
        "        if (filename != \"\"):\n",
        "            self.rows, self.cols, self.maze = readProblemInstance(filename)\n",
        "            print('Problem read with size',rows,'x',cols)\n",
        "        else:\n",
        "            self.rows = rows\n",
        "            self.cols = cols\n",
        "            self.maze = getProblemInstance(rows, cols, maxDivisions, garbageCount, seed)\n",
        "\n",
        "        self.garbage = []\n",
        "\n",
        "        for r in range(rows):\n",
        "            for c in range(cols):\n",
        "                if self.maze[r][c] == 2:\n",
        "                    init_point = (r,c)\n",
        "                elif self.maze[r][c] == 3:\n",
        "                    self.garbage.append((r,c))\n",
        "\n",
        "        self.initialState = State(init_point, self.garbage)\n",
        "\n",
        "    def getInitialState(self):\n",
        "        return self.initialState\n",
        "\n",
        "    def getActions(self):\n",
        "        return self.actions\n",
        "\n",
        "    def isGoal(self, st):\n",
        "        '''\n",
        "        check if the given state is final or not\n",
        "        '''\n",
        "        return st.garbage == []\n",
        "    \n",
        "    def computeHeuristic(self, st, heuristic):\n",
        "        '''\n",
        "        Compute and return the heuristic cost from the state 'st' to the 'goal state'.\n",
        "        @param st the state\n",
        "        @param heuristic is the name of the heuristic to use, useful if more than one is implemented \n",
        "        '''\n",
        "        maxDst = 0\n",
        "        aux = list((0, 0))\n",
        "\n",
        "        if (heuristic == \"Manhattan\"):\n",
        "          for gb in st.garbage:\n",
        "              if((abs(gb[0] - st.pos[0] + abs(gb[1] - st.pos[1])) > maxDst)):\n",
        "                  maxDst = abs(gb[0] - st.pos[0]) + abs(gb[1] - st.pos[1])\n",
        "        elif (heuristic == \"Galletas\"):\n",
        "          return len(st.garbage)\n",
        "        elif (heuristic == \"Javivi\"):\n",
        "          for gb in st.garbage:\n",
        "              if((abs(gb[0] - st.pos[0] + abs(gb[1] - st.pos[1])) > maxDst)):\n",
        "                  maxDst = abs(gb[0] - st.pos[0]) + abs(gb[1] - st.pos[1])\n",
        "                  aux = gb\n",
        "\n",
        "          if (aux[0] == st.pos[0]): # Garbage is in the same row as the node\n",
        "\n",
        "            if (aux[1] > st.pos[1]): # Garbage is to the right of the node\n",
        "              for y in range(st.pos[1], aux[1] + 1):\n",
        "                if (self.maze[st.pos[0]][y] == 1): # We penalize because there is a wall\n",
        "                  maxDst += 2\n",
        "\n",
        "            else: # Garbage is to the left of the node\n",
        "              for y in range(aux[1], st.pos[1] + 1): \n",
        "                if (self.maze[st.pos[0]][y] == 1): # We penalize because there is a wall\n",
        "                  maxDst += 2\n",
        "\n",
        "          elif (aux[1] == st.pos[1]):\n",
        "\n",
        "            if (aux[0] > st.pos[0]): # Garbage is below\n",
        "              for x in range(st.pos[0], aux[0] + 1):\n",
        "                if (self.maze[x][st.pos[1]] == 1):\n",
        "                  maxDst += 2\n",
        "\n",
        "            else: # Garbage is above\n",
        "              for x in range(aux[0], st.pos[0] + 1):\n",
        "                if (self.maze[x][st.pos[1]] == 1):\n",
        "                  maxDst += 2\n",
        "\n",
        "        return maxDst\n"
      ]
    },
    {
      "cell_type": "markdown",
      "id": "75b836e0",
      "metadata": {
        "id": "75b836e0"
      },
      "source": [
        "#### Class `Search`\n",
        "\n",
        "The `Search` class is an abstract class that contains some attributes:\n",
        "- The `problem`to solve\n",
        "- The list of `open` nodes, i.e. nodes in the frontier. This list is undefined given that you have to use a priority queue data structure to implement that list. Remember that nodes will be inserted in order in this list, where the order is defined according to different criteria depending on each specific search algorithm. \n",
        "- The list of `closed` nodes to implement the graph search, which is implemented using a `set` data structure.\n",
        "- The attributes to account for the number of generated and expanded nodes, as well as the maximum size of the open 'list' to know the maximum number of nodes stored simultaneously in memory. Theses attributes are helpful to estimate the time and memory complexity of the algorithms.\n",
        "\n",
        "This class also provides three methods:\n",
        "- `insertNode(self, node)`: this is an abstract method that has to be implemented by all (search) classes that inherit from `Search`. You must program this method according to every specific search strategy used.\n",
        "- `getSuccesors(self, node)`: this method implements the successors function and should return a list with all the valid successors of a given node. You must program this method.\n",
        "- `doSearch(self)`: this method implements the graph search you have studied in class. You must program this method. It also provides some statistics of the search process.\n",
        "\n",
        "Please, note that on the contrary to uninformed search, in heuristic search you can use the \"content\" of the garbage list (i.e. their positions). Also, think about the use of a data structure to conveniently manage the `open` list of nodes."
      ]
    },
    {
      "cell_type": "code",
      "execution_count": 120,
      "id": "03711ab8",
      "metadata": {
        "id": "03711ab8"
      },
      "outputs": [],
      "source": [
        "class Search(ABC):\n",
        "\n",
        "    def __init__(self,problem, heuristic):\n",
        "        self.problem = problem\n",
        "        self.open = PriorityQueue() \n",
        "        self.closed = set()\n",
        "        self.heuristic = heuristic\n",
        "\n",
        "        self.exploredNodes = 0\n",
        "        self.generatedNodes = 0\n",
        "        self.expandedNodes = 0\n",
        "        self.openMaxSize = 0\n",
        "        self.cost = 0\n",
        "\n",
        "    @abstractmethod\n",
        "    def insertNode(self, node):\n",
        "        pass\n",
        "\n",
        "    def getSuccesors(self, node):\n",
        "\n",
        "        suc = []\n",
        "        self.expandedNodes += 1\n",
        "        \n",
        "        for a in self.problem.getActions():\n",
        "            action = Action(a)\n",
        "            auxState = node.getState().applyAction(action)\n",
        "\n",
        "            # We check if the state is inside the maze and not out of bounds\n",
        "            if (auxState.pos[0] < self.problem.rows and \n",
        "                auxState.pos[0] >= 0 and\n",
        "                auxState.pos[1] < self.problem.cols and\n",
        "                auxState.pos[1] >= 0):\n",
        "              cell = self.problem.maze[auxState.pos[0]][auxState.pos[1]]\n",
        "              \n",
        "              # We check if the new state will not lead to a wall\n",
        "              if cell != 1:\n",
        "                nodeAux = Node(node.state.applyAction(action), node, action)\n",
        "                nodeAux.gCost = node.getGCost() + 1\n",
        "                nodeAux.hCost = self.problem.computeHeuristic(nodeAux.getState(), heuristic)\n",
        "                nodeAux.fCost = nodeAux.gCost + nodeAux.hCost\n",
        "                # if (node != None):\n",
        "                nodeAux.depth = node.getDepth() + 1\n",
        "                suc.append(nodeAux)\n",
        "                self.generatedNodes += 1\n",
        "        \n",
        "        return suc\n",
        "\n",
        "    def doSearch(self):\n",
        "        totalCost = 0\n",
        "\n",
        "        # Initial node\n",
        "        currentNode = Node(self.problem.getInitialState(), None, None)\n",
        "        currentNode.gCost = 0.0\n",
        "        currentNode.hCost = self.problem.computeHeuristic(self.problem.getInitialState(), heuristic)\n",
        "        currentNode.fCost = currentNode.gCost + currentNode.hCost\n",
        "        self.insertNode(currentNode)\n",
        "        \n",
        "        self.generatedNodes += 1\n",
        "        \n",
        "        actionSequence = []\n",
        "\n",
        "        finish = False\n",
        "\n",
        "        while (True):\n",
        "          \n",
        "          # No more nodes that we can open, then we exit the loop\n",
        "          if (self.open.empty()):\n",
        "            break\n",
        "\n",
        "          # We get the node with the least cost (the cost (index) used depends on the algorithm)\n",
        "          currentNode = self.open.get()[1]\n",
        "\n",
        "          self.exploredNodes += 1\n",
        "          if (self.problem.isGoal(currentNode.getState())):\n",
        "            self.closed.add(currentNode.getState())\n",
        "            finish = True\n",
        "            break\n",
        "\n",
        "          # We check whether the node we have picked from open has been explored\n",
        "          if currentNode.getState() not in self.closed: \n",
        "            suc = self.getSuccesors(currentNode)\n",
        "            for s in suc:\n",
        "              self.insertNode(s)\n",
        "\n",
        "            self.closed.add(currentNode.getState())\n",
        "        \n",
        "        solutionDepth = 0\n",
        "        if (finish):\n",
        "          #print(\"Depth of the solution: \" + str(currentNode.getDepth()))\n",
        "          solutionDepth = currentNode.getDepth()\n",
        "\n",
        "          while (currentNode.getParent() != None):\n",
        "              actionSequence.insert(0, currentNode.getAction())\n",
        "              currentNode = currentNode.getParent()\n",
        "              self.cost += 1\n",
        "\n",
        "        debug = False\n",
        "\n",
        "        if debug:\n",
        "          print(\"Generated nodes: \" + str(self.generatedNodes))  \n",
        "          print(\"Expanded nodes: \" + str(self.expandedNodes))  \n",
        "          print(\"Explored nodes: \" + str(self.exploredNodes))\n",
        "          print(\"Solution cost: \" + str(self.cost))\n",
        "        \n",
        "        \n",
        "        if debug:\n",
        "          for i in actionSequence:\n",
        "            print(i)\n",
        "\n",
        "        return actionSequence, solutionDepth, self.generatedNodes, self.expandedNodes, self.exploredNodes, self.cost\n",
        "    "
      ]
    },
    {
      "cell_type": "markdown",
      "id": "987d2b1f",
      "metadata": {
        "id": "987d2b1f"
      },
      "source": []
    },
    {
      "cell_type": "markdown",
      "id": "88a27deb",
      "metadata": {
        "id": "88a27deb"
      },
      "source": [
        "#### Class `UniformCost`, `BestFirst` and `AStar`\n",
        "\n",
        "These three classes also inherit from `Search` and will implement the uniform cost, best first and $A^*$ search strategies, respectively. You have to implement these three classes.\n",
        "\n",
        "Despite the `UniformCost` algorithm belongs to the class of non-informed search algorithms, we have included in this assignment because of the similarity in the implementation with the informed search algorithms.\n",
        "\n",
        "Actually the main difference betweeen these three algorithms is the way in which the function cost for a specific node ($f(n) = g(n) + h(n)$) is computed. Assuming that $g(n)$ is the real accumulated cost from the **initial state** to `n.getState()` and that $h(n)$ is the heuristic cost from `n.getState()` state to the **goal state**, $f(n)$ is computed as:\n",
        "\n",
        "- Uniform cost: $f(n) = g(n)$\n",
        "- Best First: $f(n) = h(n)$\n",
        "- A$^*$: $f(n) = g(n) + h(n)$\n",
        "\n",
        "As in Assignment 1, once the `getSuccessors(self,node)` and `doSearch(self)` methods have been implemented in the parent class, we only have to implement the `insertNode(self, node)` method, which will insert the `node`into the `self.open` list of nodes according to the corresponding values of the cost function."
      ]
    },
    {
      "cell_type": "code",
      "execution_count": 121,
      "id": "e56b3b57",
      "metadata": {
        "id": "e56b3b57"
      },
      "outputs": [],
      "source": [
        "class UniformCost(Search):\n",
        "    def insertNode(self, node):\n",
        "        self.open.put((node.getGCost(), node))"
      ]
    },
    {
      "cell_type": "code",
      "execution_count": 122,
      "id": "5a88f7e4",
      "metadata": {
        "id": "5a88f7e4"
      },
      "outputs": [],
      "source": [
        "class BestFirst(Search):\n",
        "    def insertNode(self, node):\n",
        "        self.open.put((node.getHCost(), node))"
      ]
    },
    {
      "cell_type": "code",
      "execution_count": 123,
      "id": "4477403b-af5c-4082-955f-a4701bcb766f",
      "metadata": {
        "id": "4477403b-af5c-4082-955f-a4701bcb766f"
      },
      "outputs": [],
      "source": [
        "class AStar(Search):\n",
        "    def insertNode(self, node):\n",
        "        self.open.put((node.getFCost(), node))"
      ]
    },
    {
      "cell_type": "markdown",
      "id": "71cc5d61",
      "metadata": {
        "id": "71cc5d61"
      },
      "source": [
        "#### Classes `DepthFirst`, `BreadthFirst` and `DepthLimited`\n",
        "\n",
        "These classes, implemented in Assignment 1, also can inherit from `Search` and implement the different non-informed search techniques already studied. These classes can also be used in this assigment in order to compare results and behaviours with informed search algorithms. In that case you will also have to define \n",
        "the corresponding `insertNode(self, node)` functions using the priority queue data structure and think about what value should be used for every algorithm to insert elements in the correct order to maintain the correct behaviour of every algorithm."
      ]
    },
    {
      "cell_type": "code",
      "execution_count": 124,
      "id": "ddf318fe",
      "metadata": {
        "id": "ddf318fe"
      },
      "outputs": [],
      "source": [
        "class DepthFirst(Search):\n",
        "    def insertNode(self, node):\n",
        "        self.open.put((0,node))\n",
        "\n",
        "class BreadthFirst(Search):\n",
        "    def insertNode(self, node):\n",
        "        self.open.put((node.getDepth(), node))\n",
        "\n",
        "class DepthLimited(Search):\n",
        "    def insertNode(self, node):\n",
        "        depth_limit = 5\n",
        "        if node.getDepth() < self.depth_limit:\n",
        "            self.open.put((node.getDepth() * -1, node))"
      ]
    },
    {
      "cell_type": "markdown",
      "id": "25fe1235",
      "metadata": {
        "id": "25fe1235"
      },
      "source": [
        "#### The `main` function\n",
        "\n",
        "Next, we provide you the `main` function that creates the problem and solves it using the search algorithm provided. This method should be used afterwards to carry out the experimentation to study the behaviour of the implemented algorithms for different values of the parameters provided (size of the maze, maximum number of walls, number of garbage cells, and algorithm)."
      ]
    },
    {
      "cell_type": "code",
      "execution_count": 125,
      "id": "9717abf7",
      "metadata": {
        "id": "9717abf7"
      },
      "outputs": [],
      "source": [
        "def main(heuristic, printProblemInstance, rows, cols, seed, maxDivisions, garbageCount, algorithm, configFile=\"\"):\n",
        "    problem = Problem(rows, cols, seed, maxDivisions, garbageCount, configFile)\n",
        "\n",
        "    # print(\"Rows: \" + str(problem.rows))\n",
        "    # print(\"Cols: \" + str(problem.cols))\n",
        "    # print(\"Seed: \" + str(seed))\n",
        "    # print(\"MaxDivisions: \" + str(maxDivisions))\n",
        "    # print(\"Garbage Count: \" + str(garbageCount))\n",
        "    # print(\"Algoritm: \" + algorithm)\n",
        "\n",
        "    if (printProblemInstance):\n",
        "      print(\"Problem instance:\")\n",
        "      printMaze(problem.maze)\n",
        "      print(\"\")\n",
        "\n",
        "    search = None\n",
        "\n",
        "    if algorithm == \"BreadthFirst\":\n",
        "        search = BreadthFirst(problem, heuristic)\n",
        "    elif algorithm == \"DepthFirst\":\n",
        "        search = DepthFirst(problem, heuristic)\n",
        "    elif algorithm == \"DepthLimited\":\n",
        "        search = DepthLimited(problem, heuristic)\n",
        "    elif algorithm == \"UniformCost\":\n",
        "        search = UniformCost(problem, heuristic)\n",
        "    elif algorithm == \"BestFirst\":\n",
        "        search = BestFirst(problem, heuristic)\n",
        "    elif algorithm == \"AStar\":\n",
        "        search = AStar(problem, heuristic)\n",
        "    else:\n",
        "        raise Exception\n",
        "\n",
        "    \n",
        "\n",
        "    time_start = perf_counter()\n",
        "    path, depth, generated, expanded, explored, cost = search.doSearch()\n",
        "    time_end = perf_counter()\n",
        "    #print(\"\")\n",
        "    elapsedTime = time_end - time_start\n",
        "    #print(\"Elapsed time: \" + str(elapsedTime) + \" seconds\")\n",
        "\n",
        "    if (printProblemInstance):\n",
        "      return path, problem\n",
        "\n",
        "    return path, depth, generated, expanded, explored, cost, elapsedTime"
      ]
    },
    {
      "cell_type": "markdown",
      "id": "ea50b188",
      "metadata": {
        "id": "ea50b188"
      },
      "source": [
        "#### Test your code\n",
        "\n",
        "Here you have a piece of code to test your implementation. For example, the code to execute a random search technique can be:"
      ]
    },
    {
      "cell_type": "markdown",
      "id": "a9ab0644",
      "metadata": {
        "id": "a9ab0644"
      },
      "source": [
        "#### Printing the result\n",
        "\n",
        "Here we provide you some code to display the maze and the path carried out by the robot (the green cell) to solve the instance of the problem. Walls are represented as black cells, and garbage with brown cells."
      ]
    },
    {
      "cell_type": "code",
      "execution_count": 126,
      "id": "f97f26c2",
      "metadata": {
        "id": "f97f26c2"
      },
      "outputs": [],
      "source": [
        "def render_maze(grid, maze, garbage):\n",
        "    height, width = len(maze), len(maze[0])\n",
        "    # Render maze\n",
        "    for i in range(width):\n",
        "        for j in range(height):\n",
        "            grid[j,i] = (200,200,200) if maze[j][i] in [0,2,3] else (0,0,0)\n",
        "\n",
        "    # Render garbage in maze\n",
        "    for g in garbage:\n",
        "        grid[g[0],g[1]] = (139,69,19)\n",
        "        \n",
        "def find_agent(maze, width, height):\n",
        "    for i in range(width):\n",
        "        for j in range(height):\n",
        "            if (maze[j][i] == 2):\n",
        "                return (i,j)\n",
        "\n",
        "def render_path(path, maze, garbage):\n",
        "    height, width = len(maze), len(maze[0])\n",
        "    solution_grid = BlockGrid(width, height, fill=(200, 200, 200))\n",
        "    \n",
        "    movementDict = {'DOWN':(0,1), 'UP':(0,-1), 'LEFT':(-1,0), 'RIGHT':(1,0)}\n",
        "    agentPos = find_agent(maze, width, height)\n",
        "    garbageRender = copy.deepcopy(garbage)\n",
        "    \n",
        "    # Initial position rendering\n",
        "    render_maze(solution_grid, maze, garbageRender)\n",
        "    solution_grid[agentPos[1],agentPos[0]] = (0, 255, 0)\n",
        "    solution_grid.show()\n",
        "    clear_output(wait=True)\n",
        "    time.sleep(0.1)\n",
        "    \n",
        "    for action in path:\n",
        "        # Update agent position\n",
        "        agentPos = (agentPos[0] + movementDict[action.move][0], agentPos[1] + movementDict[action.move][1])\n",
        "        \n",
        "        # Update garbage list\n",
        "        if ((agentPos[1], agentPos[0]) in garbageRender):\n",
        "            garbageRender.remove((agentPos[1], agentPos[0]))\n",
        "        \n",
        "        # Render maze\n",
        "        render_maze(solution_grid, maze, garbageRender)\n",
        "        \n",
        "        # Render agent, and update its position and the garbage list\n",
        "        solution_grid[agentPos[1],agentPos[0]] = (0,255,0)\n",
        "        \n",
        "        solution_grid.show()\n",
        "        clear_output(wait=True)\n",
        "        time.sleep(1)"
      ]
    },
    {
      "cell_type": "code",
      "execution_count": 127,
      "id": "2885bb36",
      "metadata": {
        "id": "2885bb36"
      },
      "outputs": [],
      "source": [
        "# render_path(path_sol, problem_instance.maze, problem_instance.garbage)"
      ]
    },
    {
      "cell_type": "markdown",
      "id": "0ee23fba",
      "metadata": {
        "id": "0ee23fba"
      },
      "source": [
        "You can easily try different instances of the problem just by changing the parameters when you call both the `main(...)` function and the `render_path(...)` function:"
      ]
    },
    {
      "cell_type": "code",
      "execution_count": 128,
      "id": "7552b6e4",
      "metadata": {
        "id": "7552b6e4"
      },
      "outputs": [],
      "source": [
        "# path_sol, problem_instance = main(15, 15, 2021, 15, 6, 'BestFirst')"
      ]
    },
    {
      "cell_type": "code",
      "execution_count": 129,
      "id": "78b935b3",
      "metadata": {
        "id": "78b935b3"
      },
      "outputs": [],
      "source": [
        "# render_path(path_sol, problem_instance.maze, problem_instance.garbage)"
      ]
    },
    {
      "cell_type": "markdown",
      "id": "2e92ac09",
      "metadata": {},
      "source": [
        "# EXPERIMENTAL EVALUATION"
      ]
    },
    {
      "cell_type": "markdown",
      "id": "7820370f",
      "metadata": {},
      "source": [
        "### SCENARIO 1"
      ]
    },
    {
      "cell_type": "code",
      "execution_count": 130,
      "id": "3980c519",
      "metadata": {},
      "outputs": [
        {
          "name": "stdout",
          "output_type": "stream",
          "text": [
            "Algorithm: DepthFirst\n",
            "Depth: 12.2\n",
            "Generated: 102.4\n",
            "Expanded: 34.9\n",
            "Explored: 65.0\n",
            "Cost: 12.2\n",
            "Time: 0.0045011799957137555\n",
            "\n",
            "Algorithm: BestFirst\n",
            "Depth: 13.5\n",
            "Generated: 101.8\n",
            "Expanded: 34.3\n",
            "Explored: 71.9\n",
            "Cost: 13.5\n",
            "Time: 0.004169920011190697\n",
            "\n",
            "Algorithm: AStar\n",
            "Depth: 12.0\n",
            "Generated: 99.7\n",
            "Expanded: 34.0\n",
            "Explored: 62.2\n",
            "Cost: 12.0\n",
            "Time: 0.003937719995155931\n",
            "\n",
            "Algorithm: BreadthFirst\n",
            "Depth: 12.0\n",
            "Generated: 317.3\n",
            "Expanded: 112.1\n",
            "Explored: 271.0\n",
            "Cost: 12.0\n",
            "Time: 0.01356382000958547\n",
            "\n",
            "Algorithm: UniformCost\n",
            "Depth: 12.0\n",
            "Generated: 317.3\n",
            "Expanded: 112.1\n",
            "Explored: 271.0\n",
            "Cost: 12.0\n",
            "Time: 0.013086649985052646\n",
            "\n"
          ]
        }
      ],
      "source": [
        "# Sizes:\n",
        "#   rows = 10, 20, 30\n",
        "#   cols = 10, 20, 30\n",
        "# \"DepthLimited\",\n",
        "\n",
        "algorithms = {\"DepthFirst\", \"BreadthFirst\", \"UniformCost\", \"BestFirst\", \"AStar\"}\n",
        "\n",
        "rows = 10\n",
        "cols = 10\n",
        "seed = 25\n",
        "maxDivisions = 20\n",
        "garbageCount = 2\n",
        "heuristic = \"Javivi\"\n",
        "printProblemInstance = False\n",
        "\n",
        "for alg in algorithms:\n",
        "    print(\"Algorithm: \" + str(alg))\n",
        "    i = 1\n",
        "    depth = 0\n",
        "    generated = 0\n",
        "    expanded = 0\n",
        "    explored = 0\n",
        "    cost = 0\n",
        "    time = 0\n",
        "    for i in range(10):\n",
        "        newSeed = i * seed\n",
        "        #print(\"Algorithm: \" + str(alg) + \", seed: \" + str(newSeed))\n",
        "        path_sol, newDepth, newGenerated, newExpanded, newExplored, newCost, newTime = main(heuristic, printProblemInstance, rows, cols, newSeed, maxDivisions, garbageCount, alg)\n",
        "        depth += newDepth\n",
        "        generated += newGenerated\n",
        "        expanded += newExpanded\n",
        "        explored += newExplored\n",
        "        cost += newCost\n",
        "        time += newTime\n",
        "\n",
        "    averageDepth = depth / 10\n",
        "    averageGenerated = generated / 10\n",
        "    averageExpanded = expanded / 10\n",
        "    averageExplored = explored / 10\n",
        "    averageCost = cost / 10\n",
        "    averageTime = time / 10\n",
        "\n",
        "    print(\"Depth: \" + str(averageDepth))\n",
        "    print(\"Generated: \" + str(averageGenerated))\n",
        "    print(\"Expanded: \" + str(averageExpanded))\n",
        "    print(\"Explored: \" + str(averageExplored))\n",
        "    print(\"Cost: \" + str(averageCost))\n",
        "    print(\"Time: \" + str(averageTime))\n",
        "    print(\"\")\n"
      ]
    },
    {
      "cell_type": "markdown",
      "id": "9be5821c",
      "metadata": {},
      "source": [
        "### SCENARIO 2"
      ]
    },
    {
      "cell_type": "code",
      "execution_count": 141,
      "id": "b5c833cd",
      "metadata": {},
      "outputs": [
        {
          "name": "stdout",
          "output_type": "stream",
          "text": [
            "Algorithm: DepthFirst\n",
            "Depth: 25.1\n",
            "Generated: 1683.1\n",
            "Expanded: 590.7\n",
            "Explored: 1355.0\n",
            "Cost: 25.1\n",
            "Time: 0.10137392000178806\n",
            "\n",
            "Algorithm: BestFirst\n",
            "Depth: 34.0\n",
            "Generated: 2097.2\n",
            "Expanded: 736.0\n",
            "Explored: 1819.8\n",
            "Cost: 34.0\n",
            "Time: 0.12644516000291334\n",
            "\n",
            "Algorithm: AStar\n",
            "Depth: 24.7\n",
            "Generated: 1607.4\n",
            "Expanded: 563.4\n",
            "Explored: 1286.1\n",
            "Cost: 24.7\n",
            "Time: 0.09786273000063375\n",
            "\n",
            "Algorithm: BreadthFirst\n",
            "Depth: 24.5\n",
            "Generated: 5494.1\n",
            "Expanded: 1964.2\n",
            "Explored: 4850.4\n",
            "Cost: 24.5\n",
            "Time: 0.3435312299989164\n",
            "\n",
            "Algorithm: UniformCost\n",
            "Depth: 24.5\n",
            "Generated: 5494.1\n",
            "Expanded: 1964.2\n",
            "Explored: 4850.4\n",
            "Cost: 24.5\n",
            "Time: 0.35779691000352615\n",
            "\n"
          ]
        }
      ],
      "source": [
        "algorithms = {\"DepthFirst\", \"BreadthFirst\", \"UniformCost\", \"BestFirst\", \"AStar\"}\n",
        "\n",
        "rows = 10\n",
        "cols = 10\n",
        "seed = 25\n",
        "maxDivisions = 20\n",
        "garbageCount = 6\n",
        "heuristic = \"Javivi\"\n",
        "printProblemInstance = False\n",
        "\n",
        "for alg in algorithms:\n",
        "    print(\"Algorithm: \" + str(alg))\n",
        "    i = 1\n",
        "    depth = 0\n",
        "    generated = 0\n",
        "    expanded = 0\n",
        "    explored = 0\n",
        "    cost = 0\n",
        "    time = 0\n",
        "    for i in range(10):\n",
        "        newSeed = i * seed\n",
        "        #print(\"Algorithm: \" + str(alg) + \", seed: \" + str(newSeed))\n",
        "        path_sol, newDepth, newGenerated, newExpanded, newExplored, newCost, newTime = main(heuristic, printProblemInstance, rows, cols, newSeed, maxDivisions, garbageCount, alg)\n",
        "        depth += newDepth\n",
        "        generated += newGenerated\n",
        "        expanded += newExpanded\n",
        "        explored += newExplored\n",
        "        cost += newCost\n",
        "        time += newTime\n",
        "\n",
        "    averageDepth = depth / 10\n",
        "    averageGenerated = generated / 10\n",
        "    averageExpanded = expanded / 10\n",
        "    averageExplored = explored / 10\n",
        "    averageCost = cost / 10\n",
        "    averageTime = time / 10\n",
        "\n",
        "    print(\"Depth: \" + str(averageDepth))\n",
        "    print(\"Generated: \" + str(averageGenerated))\n",
        "    print(\"Expanded: \" + str(averageExpanded))\n",
        "    print(\"Explored: \" + str(averageExplored))\n",
        "    print(\"Cost: \" + str(averageCost))\n",
        "    print(\"Time: \" + str(averageTime))\n",
        "    print(\"\")"
      ]
    },
    {
      "cell_type": "markdown",
      "id": "5d5ac339",
      "metadata": {},
      "source": [
        "### SCENARIO 3"
      ]
    },
    {
      "cell_type": "code",
      "execution_count": 142,
      "id": "8d26f789",
      "metadata": {},
      "outputs": [
        {
          "name": "stdout",
          "output_type": "stream",
          "text": [
            "Algorithm: DepthFirst\n",
            "Depth: 33.3\n",
            "Generated: 25304.9\n",
            "Expanded: 8905.4\n",
            "Explored: 20749.4\n",
            "Cost: 33.3\n",
            "Time: 2.390274779999163\n",
            "\n",
            "Algorithm: BestFirst\n",
            "Depth: 52.0\n",
            "Generated: 24368.5\n",
            "Expanded: 8679.8\n",
            "Explored: 22336.5\n",
            "Cost: 52.0\n",
            "Time: 2.172370609996142\n",
            "\n",
            "Algorithm: AStar\n",
            "Depth: 33.3\n",
            "Generated: 24241.3\n",
            "Expanded: 8523.7\n",
            "Explored: 19757.8\n",
            "Cost: 33.3\n",
            "Time: 1.8045714799955022\n",
            "\n",
            "Algorithm: BreadthFirst\n",
            "Depth: 33.1\n",
            "Generated: 91431.0\n",
            "Expanded: 32795.2\n",
            "Explored: 82630.3\n",
            "Cost: 33.1\n",
            "Time: 9.922240760002751\n",
            "\n",
            "Algorithm: UniformCost\n",
            "Depth: 33.1\n",
            "Generated: 91431.0\n",
            "Expanded: 32795.2\n",
            "Explored: 82630.3\n",
            "Cost: 33.1\n",
            "Time: 10.394330959988292\n",
            "\n"
          ]
        }
      ],
      "source": [
        "algorithms = {\"DepthFirst\", \"BreadthFirst\", \"UniformCost\", \"BestFirst\", \"AStar\"}\n",
        "\n",
        "rows = 10\n",
        "cols = 10\n",
        "seed = 25\n",
        "maxDivisions = 20\n",
        "garbageCount = 10\n",
        "heuristic = \"Javivi\"\n",
        "printProblemInstance = False\n",
        "\n",
        "for alg in algorithms:\n",
        "    print(\"Algorithm: \" + str(alg))\n",
        "    i = 1\n",
        "    depth = 0\n",
        "    generated = 0\n",
        "    expanded = 0\n",
        "    explored = 0\n",
        "    cost = 0\n",
        "    time = 0\n",
        "    for i in range(10):\n",
        "        newSeed = i * seed\n",
        "        #print(\"Algorithm: \" + str(alg) + \", seed: \" + str(newSeed))\n",
        "        path_sol, newDepth, newGenerated, newExpanded, newExplored, newCost, newTime = main(heuristic, printProblemInstance, rows, cols, newSeed, maxDivisions, garbageCount, alg)\n",
        "        depth += newDepth\n",
        "        generated += newGenerated\n",
        "        expanded += newExpanded\n",
        "        explored += newExplored\n",
        "        cost += newCost\n",
        "        time += newTime\n",
        "\n",
        "    averageDepth = depth / 10\n",
        "    averageGenerated = generated / 10\n",
        "    averageExpanded = expanded / 10\n",
        "    averageExplored = explored / 10\n",
        "    averageCost = cost / 10\n",
        "    averageTime = time / 10\n",
        "\n",
        "    print(\"Depth: \" + str(averageDepth))\n",
        "    print(\"Generated: \" + str(averageGenerated))\n",
        "    print(\"Expanded: \" + str(averageExpanded))\n",
        "    print(\"Explored: \" + str(averageExplored))\n",
        "    print(\"Cost: \" + str(averageCost))\n",
        "    print(\"Time: \" + str(averageTime))\n",
        "    print(\"\")"
      ]
    },
    {
      "cell_type": "markdown",
      "id": "f59c77d7",
      "metadata": {},
      "source": [
        "### SCENARIO 4"
      ]
    },
    {
      "cell_type": "code",
      "execution_count": 143,
      "id": "378b3de4",
      "metadata": {},
      "outputs": [
        {
          "name": "stdout",
          "output_type": "stream",
          "text": [
            "Algorithm: DepthFirst\n",
            "Depth: 26.8\n",
            "Generated: 573.8\n",
            "Expanded: 178.7\n",
            "Explored: 488.2\n",
            "Cost: 26.8\n",
            "Time: 0.023293349996674807\n",
            "\n",
            "Algorithm: BestFirst\n",
            "Depth: 30.4\n",
            "Generated: 434.2\n",
            "Expanded: 135.0\n",
            "Explored: 356.5\n",
            "Cost: 30.4\n",
            "Time: 0.017050229996675624\n",
            "\n",
            "Algorithm: AStar\n",
            "Depth: 26.6\n",
            "Generated: 589.5\n",
            "Expanded: 183.2\n",
            "Explored: 497.7\n",
            "Cost: 26.6\n",
            "Time: 0.025089350005146116\n",
            "\n",
            "Algorithm: BreadthFirst\n",
            "Depth: 26.4\n",
            "Generated: 1463.4\n",
            "Expanded: 458.9\n",
            "Explored: 1363.1\n",
            "Cost: 26.4\n",
            "Time: 0.061020140012260526\n",
            "\n",
            "Algorithm: UniformCost\n",
            "Depth: 26.4\n",
            "Generated: 1463.4\n",
            "Expanded: 458.9\n",
            "Explored: 1363.1\n",
            "Cost: 26.4\n",
            "Time: 0.061004999984288585\n",
            "\n"
          ]
        }
      ],
      "source": [
        "algorithms = {\"DepthFirst\", \"BreadthFirst\", \"UniformCost\", \"BestFirst\", \"AStar\"}\n",
        "\n",
        "rows = 20\n",
        "cols = 20\n",
        "seed = 25\n",
        "maxDivisions = 20\n",
        "garbageCount = 2\n",
        "heuristic = \"Javivi\"\n",
        "printProblemInstance = False\n",
        "\n",
        "for alg in algorithms:\n",
        "    print(\"Algorithm: \" + str(alg))\n",
        "    i = 1\n",
        "    depth = 0\n",
        "    generated = 0\n",
        "    expanded = 0\n",
        "    explored = 0\n",
        "    cost = 0\n",
        "    time = 0\n",
        "    for i in range(10):\n",
        "        newSeed = i * seed\n",
        "        #print(\"Algorithm: \" + str(alg) + \", seed: \" + str(newSeed))\n",
        "        path_sol, newDepth, newGenerated, newExpanded, newExplored, newCost, newTime = main(heuristic, printProblemInstance, rows, cols, newSeed, maxDivisions, garbageCount, alg)\n",
        "        depth += newDepth\n",
        "        generated += newGenerated\n",
        "        expanded += newExpanded\n",
        "        explored += newExplored\n",
        "        cost += newCost\n",
        "        time += newTime\n",
        "\n",
        "    averageDepth = depth / 10\n",
        "    averageGenerated = generated / 10\n",
        "    averageExpanded = expanded / 10\n",
        "    averageExplored = explored / 10\n",
        "    averageCost = cost / 10\n",
        "    averageTime = time / 10\n",
        "\n",
        "    print(\"Depth: \" + str(averageDepth))\n",
        "    print(\"Generated: \" + str(averageGenerated))\n",
        "    print(\"Expanded: \" + str(averageExpanded))\n",
        "    print(\"Explored: \" + str(averageExplored))\n",
        "    print(\"Cost: \" + str(averageCost))\n",
        "    print(\"Time: \" + str(averageTime))\n",
        "    print(\"\")"
      ]
    },
    {
      "cell_type": "markdown",
      "id": "536d8516",
      "metadata": {},
      "source": [
        "### SCENARIO 5"
      ]
    },
    {
      "cell_type": "code",
      "execution_count": 144,
      "id": "5199d52b",
      "metadata": {},
      "outputs": [
        {
          "name": "stdout",
          "output_type": "stream",
          "text": [
            "Algorithm: DepthFirst\n",
            "Depth: 56.5\n",
            "Generated: 16608.9\n",
            "Expanded: 5210.6\n",
            "Explored: 15214.2\n",
            "Cost: 56.5\n",
            "Time: 1.3156932799960486\n",
            "\n",
            "Algorithm: BestFirst\n",
            "Depth: 85.9\n",
            "Generated: 14067.2\n",
            "Expanded: 4427.3\n",
            "Explored: 13412.8\n",
            "Cost: 85.9\n",
            "Time: 0.7211845799931325\n",
            "\n",
            "Algorithm: AStar\n",
            "Depth: 56.3\n",
            "Generated: 16331.7\n",
            "Expanded: 5117.9\n",
            "Explored: 14947.3\n",
            "Cost: 56.3\n",
            "Time: 0.8741921900014858\n",
            "\n",
            "Algorithm: BreadthFirst\n",
            "Depth: 56.0\n",
            "Generated: 42003.9\n",
            "Expanded: 13332.9\n",
            "Explored: 40395.7\n",
            "Cost: 56.0\n",
            "Time: 2.7260337500018066\n",
            "\n",
            "Algorithm: UniformCost\n",
            "Depth: 56.0\n",
            "Generated: 42003.9\n",
            "Expanded: 13332.9\n",
            "Explored: 40395.7\n",
            "Cost: 56.0\n",
            "Time: 2.7538966899970547\n",
            "\n"
          ]
        }
      ],
      "source": [
        "algorithms = {\"DepthFirst\", \"BreadthFirst\", \"UniformCost\", \"BestFirst\", \"AStar\"}\n",
        "\n",
        "rows = 20\n",
        "cols = 20\n",
        "seed = 25\n",
        "maxDivisions = 20\n",
        "garbageCount = 6\n",
        "heuristic = \"Javivi\"\n",
        "printProblemInstance = False\n",
        "\n",
        "for alg in algorithms:\n",
        "    print(\"Algorithm: \" + str(alg))\n",
        "    i = 1\n",
        "    depth = 0\n",
        "    generated = 0\n",
        "    expanded = 0\n",
        "    explored = 0\n",
        "    cost = 0\n",
        "    time = 0\n",
        "    for i in range(10):\n",
        "        newSeed = i * seed\n",
        "        #print(\"Algorithm: \" + str(alg) + \", seed: \" + str(newSeed))\n",
        "        path_sol, newDepth, newGenerated, newExpanded, newExplored, newCost, newTime = main(heuristic, printProblemInstance, rows, cols, newSeed, maxDivisions, garbageCount, alg)\n",
        "        depth += newDepth\n",
        "        generated += newGenerated\n",
        "        expanded += newExpanded\n",
        "        explored += newExplored\n",
        "        cost += newCost\n",
        "        time += newTime\n",
        "\n",
        "    averageDepth = depth / 10\n",
        "    averageGenerated = generated / 10\n",
        "    averageExpanded = expanded / 10\n",
        "    averageExplored = explored / 10\n",
        "    averageCost = cost / 10\n",
        "    averageTime = time / 10\n",
        "\n",
        "    print(\"Depth: \" + str(averageDepth))\n",
        "    print(\"Generated: \" + str(averageGenerated))\n",
        "    print(\"Expanded: \" + str(averageExpanded))\n",
        "    print(\"Explored: \" + str(averageExplored))\n",
        "    print(\"Cost: \" + str(averageCost))\n",
        "    print(\"Time: \" + str(averageTime))\n",
        "    print(\"\")"
      ]
    },
    {
      "cell_type": "markdown",
      "id": "d69f64ec",
      "metadata": {},
      "source": [
        "### SCENARIO 6"
      ]
    },
    {
      "cell_type": "code",
      "execution_count": 145,
      "id": "1a2820ac",
      "metadata": {},
      "outputs": [
        {
          "name": "stdout",
          "output_type": "stream",
          "text": [
            "Algorithm: DepthFirst\n",
            "Depth: 74.5\n",
            "Generated: 299951.6\n",
            "Expanded: 94124.9\n",
            "Explored: 275878.2\n",
            "Cost: 74.5\n",
            "Time: 35.14435321000055\n",
            "\n",
            "Algorithm: BestFirst\n",
            "Depth: 138.5\n",
            "Generated: 247992.6\n",
            "Expanded: 78103.9\n",
            "Explored: 240154.6\n",
            "Cost: 138.5\n",
            "Time: 22.814189669990448\n",
            "\n",
            "Algorithm: AStar\n",
            "Depth: 74.1\n",
            "Generated: 295676.8\n",
            "Expanded: 92741.9\n",
            "Explored: 271524.7\n",
            "Cost: 74.1\n",
            "Time: 32.48169365999056\n",
            "\n",
            "Algorithm: BreadthFirst\n",
            "Depth: 73.4\n",
            "Generated: 807108.6\n",
            "Expanded: 256876.3\n",
            "Explored: 783694.0\n",
            "Cost: 73.4\n",
            "Time: 107.03873950999696\n",
            "\n",
            "Algorithm: UniformCost\n"
          ]
        },
        {
          "ename": "KeyboardInterrupt",
          "evalue": "",
          "output_type": "error",
          "traceback": [
            "\u001b[1;31m---------------------------------------------------------------------------\u001b[0m",
            "\u001b[1;31mKeyboardInterrupt\u001b[0m                         Traceback (most recent call last)",
            "\u001b[1;32m~\\AppData\\Local\\Temp/ipykernel_8384/1756379359.py\u001b[0m in \u001b[0;36m<module>\u001b[1;34m\u001b[0m\n\u001b[0;32m     21\u001b[0m         \u001b[0mnewSeed\u001b[0m \u001b[1;33m=\u001b[0m \u001b[0mi\u001b[0m \u001b[1;33m*\u001b[0m \u001b[0mseed\u001b[0m\u001b[1;33m\u001b[0m\u001b[1;33m\u001b[0m\u001b[0m\n\u001b[0;32m     22\u001b[0m         \u001b[1;31m#print(\"Algorithm: \" + str(alg) + \", seed: \" + str(newSeed))\u001b[0m\u001b[1;33m\u001b[0m\u001b[1;33m\u001b[0m\u001b[0m\n\u001b[1;32m---> 23\u001b[1;33m         \u001b[0mpath_sol\u001b[0m\u001b[1;33m,\u001b[0m \u001b[0mnewDepth\u001b[0m\u001b[1;33m,\u001b[0m \u001b[0mnewGenerated\u001b[0m\u001b[1;33m,\u001b[0m \u001b[0mnewExpanded\u001b[0m\u001b[1;33m,\u001b[0m \u001b[0mnewExplored\u001b[0m\u001b[1;33m,\u001b[0m \u001b[0mnewCost\u001b[0m\u001b[1;33m,\u001b[0m \u001b[0mnewTime\u001b[0m \u001b[1;33m=\u001b[0m \u001b[0mmain\u001b[0m\u001b[1;33m(\u001b[0m\u001b[0mheuristic\u001b[0m\u001b[1;33m,\u001b[0m \u001b[0mprintProblemInstance\u001b[0m\u001b[1;33m,\u001b[0m \u001b[0mrows\u001b[0m\u001b[1;33m,\u001b[0m \u001b[0mcols\u001b[0m\u001b[1;33m,\u001b[0m \u001b[0mnewSeed\u001b[0m\u001b[1;33m,\u001b[0m \u001b[0mmaxDivisions\u001b[0m\u001b[1;33m,\u001b[0m \u001b[0mgarbageCount\u001b[0m\u001b[1;33m,\u001b[0m \u001b[0malg\u001b[0m\u001b[1;33m)\u001b[0m\u001b[1;33m\u001b[0m\u001b[1;33m\u001b[0m\u001b[0m\n\u001b[0m\u001b[0;32m     24\u001b[0m         \u001b[0mdepth\u001b[0m \u001b[1;33m+=\u001b[0m \u001b[0mnewDepth\u001b[0m\u001b[1;33m\u001b[0m\u001b[1;33m\u001b[0m\u001b[0m\n\u001b[0;32m     25\u001b[0m         \u001b[0mgenerated\u001b[0m \u001b[1;33m+=\u001b[0m \u001b[0mnewGenerated\u001b[0m\u001b[1;33m\u001b[0m\u001b[1;33m\u001b[0m\u001b[0m\n",
            "\u001b[1;32m~\\AppData\\Local\\Temp/ipykernel_8384/924351699.py\u001b[0m in \u001b[0;36mmain\u001b[1;34m(heuristic, printProblemInstance, rows, cols, seed, maxDivisions, garbageCount, algorithm, configFile)\u001b[0m\n\u001b[0;32m     34\u001b[0m \u001b[1;33m\u001b[0m\u001b[0m\n\u001b[0;32m     35\u001b[0m     \u001b[0mtime_start\u001b[0m \u001b[1;33m=\u001b[0m \u001b[0mperf_counter\u001b[0m\u001b[1;33m(\u001b[0m\u001b[1;33m)\u001b[0m\u001b[1;33m\u001b[0m\u001b[1;33m\u001b[0m\u001b[0m\n\u001b[1;32m---> 36\u001b[1;33m     \u001b[0mpath\u001b[0m\u001b[1;33m,\u001b[0m \u001b[0mdepth\u001b[0m\u001b[1;33m,\u001b[0m \u001b[0mgenerated\u001b[0m\u001b[1;33m,\u001b[0m \u001b[0mexpanded\u001b[0m\u001b[1;33m,\u001b[0m \u001b[0mexplored\u001b[0m\u001b[1;33m,\u001b[0m \u001b[0mcost\u001b[0m \u001b[1;33m=\u001b[0m \u001b[0msearch\u001b[0m\u001b[1;33m.\u001b[0m\u001b[0mdoSearch\u001b[0m\u001b[1;33m(\u001b[0m\u001b[1;33m)\u001b[0m\u001b[1;33m\u001b[0m\u001b[1;33m\u001b[0m\u001b[0m\n\u001b[0m\u001b[0;32m     37\u001b[0m     \u001b[0mtime_end\u001b[0m \u001b[1;33m=\u001b[0m \u001b[0mperf_counter\u001b[0m\u001b[1;33m(\u001b[0m\u001b[1;33m)\u001b[0m\u001b[1;33m\u001b[0m\u001b[1;33m\u001b[0m\u001b[0m\n\u001b[0;32m     38\u001b[0m     \u001b[1;31m#print(\"\")\u001b[0m\u001b[1;33m\u001b[0m\u001b[1;33m\u001b[0m\u001b[0m\n",
            "\u001b[1;32m~\\AppData\\Local\\Temp/ipykernel_8384/375572423.py\u001b[0m in \u001b[0;36mdoSearch\u001b[1;34m(self)\u001b[0m\n\u001b[0;32m     83\u001b[0m               \u001b[0mself\u001b[0m\u001b[1;33m.\u001b[0m\u001b[0minsertNode\u001b[0m\u001b[1;33m(\u001b[0m\u001b[0ms\u001b[0m\u001b[1;33m)\u001b[0m\u001b[1;33m\u001b[0m\u001b[1;33m\u001b[0m\u001b[0m\n\u001b[0;32m     84\u001b[0m \u001b[1;33m\u001b[0m\u001b[0m\n\u001b[1;32m---> 85\u001b[1;33m             \u001b[0mself\u001b[0m\u001b[1;33m.\u001b[0m\u001b[0mclosed\u001b[0m\u001b[1;33m.\u001b[0m\u001b[0madd\u001b[0m\u001b[1;33m(\u001b[0m\u001b[0mcurrentNode\u001b[0m\u001b[1;33m.\u001b[0m\u001b[0mgetState\u001b[0m\u001b[1;33m(\u001b[0m\u001b[1;33m)\u001b[0m\u001b[1;33m)\u001b[0m\u001b[1;33m\u001b[0m\u001b[1;33m\u001b[0m\u001b[0m\n\u001b[0m\u001b[0;32m     86\u001b[0m \u001b[1;33m\u001b[0m\u001b[0m\n\u001b[0;32m     87\u001b[0m         \u001b[0msolutionDepth\u001b[0m \u001b[1;33m=\u001b[0m \u001b[1;36m0\u001b[0m\u001b[1;33m\u001b[0m\u001b[1;33m\u001b[0m\u001b[0m\n",
            "\u001b[1;32m~\\AppData\\Local\\Temp/ipykernel_8384/3661275693.py\u001b[0m in \u001b[0;36m__hash__\u001b[1;34m(self)\u001b[0m\n\u001b[0;32m     18\u001b[0m         \u001b[0mh\u001b[0m \u001b[1;33m=\u001b[0m \u001b[1;36m0\u001b[0m\u001b[1;33m\u001b[0m\u001b[1;33m\u001b[0m\u001b[0m\n\u001b[0;32m     19\u001b[0m         \u001b[1;32mfor\u001b[0m \u001b[0mg\u001b[0m \u001b[1;32min\u001b[0m \u001b[0mself\u001b[0m\u001b[1;33m.\u001b[0m\u001b[0mgarbage\u001b[0m\u001b[1;33m:\u001b[0m\u001b[1;33m\u001b[0m\u001b[1;33m\u001b[0m\u001b[0m\n\u001b[1;32m---> 20\u001b[1;33m             \u001b[0mh\u001b[0m \u001b[1;33m+=\u001b[0m \u001b[1;33m(\u001b[0m\u001b[0mmath\u001b[0m\u001b[1;33m.\u001b[0m\u001b[0mpow\u001b[0m\u001b[1;33m(\u001b[0m\u001b[1;36m10\u001b[0m\u001b[1;33m,\u001b[0m\u001b[1;36m3\u001b[0m\u001b[1;33m)\u001b[0m \u001b[1;33m*\u001b[0m \u001b[1;33m(\u001b[0m\u001b[0mself\u001b[0m\u001b[1;33m.\u001b[0m\u001b[0mpos\u001b[0m\u001b[1;33m[\u001b[0m\u001b[1;36m0\u001b[0m\u001b[1;33m]\u001b[0m\u001b[1;33m+\u001b[0m\u001b[1;36m1\u001b[0m\u001b[1;33m)\u001b[0m \u001b[1;33m+\u001b[0m \u001b[1;33m(\u001b[0m\u001b[0mself\u001b[0m\u001b[1;33m.\u001b[0m\u001b[0mpos\u001b[0m\u001b[1;33m[\u001b[0m\u001b[1;36m1\u001b[0m\u001b[1;33m]\u001b[0m\u001b[1;33m+\u001b[0m\u001b[1;36m2\u001b[0m\u001b[1;33m)\u001b[0m\u001b[1;33m)\u001b[0m\u001b[1;33m\u001b[0m\u001b[1;33m\u001b[0m\u001b[0m\n\u001b[0m\u001b[0;32m     21\u001b[0m         \u001b[1;32mreturn\u001b[0m \u001b[0mint\u001b[0m\u001b[1;33m(\u001b[0m\u001b[0mh\u001b[0m\u001b[1;33m)\u001b[0m\u001b[1;33m\u001b[0m\u001b[1;33m\u001b[0m\u001b[0m\n\u001b[0;32m     22\u001b[0m \u001b[1;33m\u001b[0m\u001b[0m\n",
            "\u001b[1;31mKeyboardInterrupt\u001b[0m: "
          ]
        }
      ],
      "source": [
        "algorithms = {\"DepthFirst\", \"BreadthFirst\", \"UniformCost\", \"BestFirst\", \"AStar\"}\n",
        "\n",
        "rows = 20\n",
        "cols = 20\n",
        "seed = 25\n",
        "maxDivisions = 20\n",
        "garbageCount = 10\n",
        "heuristic = \"Javivi\"\n",
        "printProblemInstance = False\n",
        "\n",
        "for alg in algorithms:\n",
        "    print(\"Algorithm: \" + str(alg))\n",
        "    i = 1\n",
        "    depth = 0\n",
        "    generated = 0\n",
        "    expanded = 0\n",
        "    explored = 0\n",
        "    cost = 0\n",
        "    time = 0\n",
        "    for i in range(10):\n",
        "        newSeed = i * seed\n",
        "        #print(\"Algorithm: \" + str(alg) + \", seed: \" + str(newSeed))\n",
        "        path_sol, newDepth, newGenerated, newExpanded, newExplored, newCost, newTime = main(heuristic, printProblemInstance, rows, cols, newSeed, maxDivisions, garbageCount, alg)\n",
        "        depth += newDepth\n",
        "        generated += newGenerated\n",
        "        expanded += newExpanded\n",
        "        explored += newExplored\n",
        "        cost += newCost\n",
        "        time += newTime\n",
        "\n",
        "    averageDepth = depth / 10\n",
        "    averageGenerated = generated / 10\n",
        "    averageExpanded = expanded / 10\n",
        "    averageExplored = explored / 10\n",
        "    averageCost = cost / 10\n",
        "    averageTime = time / 10\n",
        "\n",
        "    print(\"Depth: \" + str(averageDepth))\n",
        "    print(\"Generated: \" + str(averageGenerated))\n",
        "    print(\"Expanded: \" + str(averageExpanded))\n",
        "    print(\"Explored: \" + str(averageExplored))\n",
        "    print(\"Cost: \" + str(averageCost))\n",
        "    print(\"Time: \" + str(averageTime))\n",
        "    print(\"\")"
      ]
    },
    {
      "cell_type": "markdown",
      "id": "37aa2234",
      "metadata": {},
      "source": [
        "### SCENARIO 7"
      ]
    },
    {
      "cell_type": "code",
      "execution_count": 150,
      "id": "c655ff4a",
      "metadata": {},
      "outputs": [
        {
          "name": "stdout",
          "output_type": "stream",
          "text": [
            "Algorithm: DepthFirst\n",
            "Depth: 26.8\n",
            "Generated: 573.8\n",
            "Expanded: 178.7\n",
            "Explored: 488.2\n",
            "Cost: 26.8\n",
            "Time: 0.030010929994750767\n",
            "\n",
            "Algorithm: BestFirst\n",
            "Depth: 30.4\n",
            "Generated: 434.2\n",
            "Expanded: 135.0\n",
            "Explored: 356.5\n",
            "Cost: 30.4\n",
            "Time: 0.020455150026828052\n",
            "\n",
            "Algorithm: AStar\n",
            "Depth: 26.6\n",
            "Generated: 589.5\n",
            "Expanded: 183.2\n",
            "Explored: 497.7\n",
            "Cost: 26.6\n",
            "Time: 0.04073272999376058\n",
            "\n",
            "Algorithm: BreadthFirst\n",
            "Depth: 26.4\n",
            "Generated: 1463.4\n",
            "Expanded: 458.9\n",
            "Explored: 1363.1\n",
            "Cost: 26.4\n",
            "Time: 0.06687912000343203\n",
            "\n",
            "Algorithm: UniformCost\n",
            "Depth: 26.4\n",
            "Generated: 1463.4\n",
            "Expanded: 458.9\n",
            "Explored: 1363.1\n",
            "Cost: 26.4\n",
            "Time: 0.06539158000377938\n",
            "\n"
          ]
        }
      ],
      "source": [
        "algorithms = {\"DepthFirst\", \"BreadthFirst\", \"UniformCost\", \"BestFirst\", \"AStar\"}\n",
        "\n",
        "rows = 20\n",
        "cols = 20\n",
        "seed = 25\n",
        "maxDivisions = 20\n",
        "garbageCount = 2\n",
        "heuristic = \"Javivi\"\n",
        "printProblemInstance = False\n",
        "\n",
        "for alg in algorithms:\n",
        "    print(\"Algorithm: \" + str(alg))\n",
        "    i = 1\n",
        "    depth = 0\n",
        "    generated = 0\n",
        "    expanded = 0\n",
        "    explored = 0\n",
        "    cost = 0\n",
        "    time = 0\n",
        "    for i in range(10):\n",
        "        newSeed = i * seed\n",
        "        #print(\"Algorithm: \" + str(alg) + \", seed: \" + str(newSeed))\n",
        "        path_sol, newDepth, newGenerated, newExpanded, newExplored, newCost, newTime = main(heuristic, printProblemInstance, rows, cols, newSeed, maxDivisions, garbageCount, alg)\n",
        "        depth += newDepth\n",
        "        generated += newGenerated\n",
        "        expanded += newExpanded\n",
        "        explored += newExplored\n",
        "        cost += newCost\n",
        "        time += newTime\n",
        "\n",
        "    averageDepth = depth / 10\n",
        "    averageGenerated = generated / 10\n",
        "    averageExpanded = expanded / 10\n",
        "    averageExplored = explored / 10\n",
        "    averageCost = cost / 10\n",
        "    averageTime = time / 10\n",
        "\n",
        "    print(\"Depth: \" + str(averageDepth))\n",
        "    print(\"Generated: \" + str(averageGenerated))\n",
        "    print(\"Expanded: \" + str(averageExpanded))\n",
        "    print(\"Explored: \" + str(averageExplored))\n",
        "    print(\"Cost: \" + str(averageCost))\n",
        "    print(\"Time: \" + str(averageTime))\n",
        "    print(\"\")"
      ]
    },
    {
      "cell_type": "markdown",
      "id": "0b6587ec",
      "metadata": {},
      "source": [
        "### SCENARIO 8"
      ]
    },
    {
      "cell_type": "code",
      "execution_count": 149,
      "id": "67988d27",
      "metadata": {},
      "outputs": [
        {
          "name": "stdout",
          "output_type": "stream",
          "text": [
            "Algorithm: DepthFirst\n",
            "Depth: 82.3\n",
            "Generated: 31690.3\n",
            "Expanded: 9240.5\n",
            "Explored: 29781.8\n",
            "Cost: 82.3\n",
            "Time: 2.0870167400105855\n",
            "\n",
            "Algorithm: BestFirst\n",
            "Depth: 138.1\n",
            "Generated: 29802.0\n",
            "Expanded: 8655.0\n",
            "Explored: 28582.7\n",
            "Cost: 138.1\n",
            "Time: 1.8650392100098543\n",
            "\n",
            "Algorithm: AStar\n",
            "Depth: 82.1\n",
            "Generated: 31018.0\n",
            "Expanded: 9036.9\n",
            "Explored: 29070.5\n",
            "Cost: 82.1\n",
            "Time: 2.2715860900236295\n",
            "\n",
            "Algorithm: BreadthFirst\n",
            "Depth: 81.1\n",
            "Generated: 97475.4\n",
            "Expanded: 28717.0\n",
            "Explored: 94308.9\n",
            "Cost: 81.1\n",
            "Time: 7.124970680009573\n",
            "\n",
            "Algorithm: UniformCost\n",
            "Depth: 81.1\n",
            "Generated: 97475.4\n",
            "Expanded: 28717.0\n",
            "Explored: 94308.9\n",
            "Cost: 81.1\n",
            "Time: 6.749175300018396\n",
            "\n"
          ]
        }
      ],
      "source": [
        "algorithms = {\"DepthFirst\", \"BreadthFirst\", \"UniformCost\", \"BestFirst\", \"AStar\"}\n",
        "\n",
        "rows = 30\n",
        "cols = 30\n",
        "seed = 25\n",
        "maxDivisions = 20\n",
        "garbageCount = 6\n",
        "heuristic = \"Javivi\"\n",
        "printProblemInstance = False\n",
        "\n",
        "for alg in algorithms:\n",
        "    print(\"Algorithm: \" + str(alg))\n",
        "    i = 1\n",
        "    depth = 0\n",
        "    generated = 0\n",
        "    expanded = 0\n",
        "    explored = 0\n",
        "    cost = 0\n",
        "    time = 0\n",
        "    for i in range(10):\n",
        "        newSeed = i * seed\n",
        "        path_sol, newDepth, newGenerated, newExpanded, newExplored, newCost, newTime = main(heuristic, printProblemInstance, rows, cols, newSeed, maxDivisions, garbageCount, alg)\n",
        "        depth += newDepth\n",
        "        generated += newGenerated\n",
        "        expanded += newExpanded\n",
        "        explored += newExplored\n",
        "        cost += newCost\n",
        "        time += newTime\n",
        "\n",
        "    averageDepth = depth / 10\n",
        "    averageGenerated = generated / 10\n",
        "    averageExpanded = expanded / 10\n",
        "    averageExplored = explored / 10\n",
        "    averageCost = cost / 10\n",
        "    averageTime = time / 10\n",
        "\n",
        "    print(\"Depth: \" + str(averageDepth))\n",
        "    print(\"Generated: \" + str(averageGenerated))\n",
        "    print(\"Expanded: \" + str(averageExpanded))\n",
        "    print(\"Explored: \" + str(averageExplored))\n",
        "    print(\"Cost: \" + str(averageCost))\n",
        "    print(\"Time: \" + str(averageTime))\n",
        "    print(\"\")"
      ]
    },
    {
      "cell_type": "markdown",
      "id": "5c4151f7",
      "metadata": {},
      "source": [
        "### SCENARIO 9"
      ]
    },
    {
      "cell_type": "code",
      "execution_count": 151,
      "id": "a9ce9932",
      "metadata": {},
      "outputs": [
        {
          "name": "stdout",
          "output_type": "stream",
          "text": [
            "Algorithm: DepthFirst\n",
            "Depth: 108.9\n",
            "Generated: 739785.7\n",
            "Expanded: 213707.0\n",
            "Explored: 698317.8\n",
            "Cost: 108.9\n",
            "Time: 89.69354650001041\n",
            "\n",
            "Algorithm: BestFirst\n",
            "Depth: 201.2\n",
            "Generated: 435527.9\n",
            "Expanded: 126040.2\n",
            "Explored: 424225.9\n",
            "Cost: 201.2\n",
            "Time: 40.92645024997182\n",
            "\n",
            "Algorithm: AStar\n",
            "Depth: 108.9\n",
            "Generated: 744285.4\n",
            "Expanded: 215041.8\n",
            "Explored: 702940.1\n",
            "Cost: 108.9\n",
            "Time: 87.66525603999617\n",
            "\n",
            "Algorithm: BreadthFirst\n",
            "Depth: 108.1\n",
            "Generated: 2039481.0\n",
            "Expanded: 600287.9\n",
            "Explored: 1994800.6\n",
            "Cost: 108.1\n",
            "Time: 316.8720362800057\n",
            "\n",
            "Algorithm: UniformCost\n"
          ]
        },
        {
          "ename": "KeyboardInterrupt",
          "evalue": "",
          "output_type": "error",
          "traceback": [
            "\u001b[1;31m---------------------------------------------------------------------------\u001b[0m",
            "\u001b[1;31mKeyboardInterrupt\u001b[0m                         Traceback (most recent call last)",
            "\u001b[1;32m~\\AppData\\Local\\Temp/ipykernel_8384/761410944.py\u001b[0m in \u001b[0;36m<module>\u001b[1;34m\u001b[0m\n\u001b[0;32m     20\u001b[0m     \u001b[1;32mfor\u001b[0m \u001b[0mi\u001b[0m \u001b[1;32min\u001b[0m \u001b[0mrange\u001b[0m\u001b[1;33m(\u001b[0m\u001b[1;36m10\u001b[0m\u001b[1;33m)\u001b[0m\u001b[1;33m:\u001b[0m\u001b[1;33m\u001b[0m\u001b[1;33m\u001b[0m\u001b[0m\n\u001b[0;32m     21\u001b[0m         \u001b[0mnewSeed\u001b[0m \u001b[1;33m=\u001b[0m \u001b[0mi\u001b[0m \u001b[1;33m*\u001b[0m \u001b[0mseed\u001b[0m\u001b[1;33m\u001b[0m\u001b[1;33m\u001b[0m\u001b[0m\n\u001b[1;32m---> 22\u001b[1;33m         \u001b[0mpath_sol\u001b[0m\u001b[1;33m,\u001b[0m \u001b[0mnewDepth\u001b[0m\u001b[1;33m,\u001b[0m \u001b[0mnewGenerated\u001b[0m\u001b[1;33m,\u001b[0m \u001b[0mnewExpanded\u001b[0m\u001b[1;33m,\u001b[0m \u001b[0mnewExplored\u001b[0m\u001b[1;33m,\u001b[0m \u001b[0mnewCost\u001b[0m\u001b[1;33m,\u001b[0m \u001b[0mnewTime\u001b[0m \u001b[1;33m=\u001b[0m \u001b[0mmain\u001b[0m\u001b[1;33m(\u001b[0m\u001b[0mheuristic\u001b[0m\u001b[1;33m,\u001b[0m \u001b[0mprintProblemInstance\u001b[0m\u001b[1;33m,\u001b[0m \u001b[0mrows\u001b[0m\u001b[1;33m,\u001b[0m \u001b[0mcols\u001b[0m\u001b[1;33m,\u001b[0m \u001b[0mnewSeed\u001b[0m\u001b[1;33m,\u001b[0m \u001b[0mmaxDivisions\u001b[0m\u001b[1;33m,\u001b[0m \u001b[0mgarbageCount\u001b[0m\u001b[1;33m,\u001b[0m \u001b[0malg\u001b[0m\u001b[1;33m)\u001b[0m\u001b[1;33m\u001b[0m\u001b[1;33m\u001b[0m\u001b[0m\n\u001b[0m\u001b[0;32m     23\u001b[0m         \u001b[0mdepth\u001b[0m \u001b[1;33m+=\u001b[0m \u001b[0mnewDepth\u001b[0m\u001b[1;33m\u001b[0m\u001b[1;33m\u001b[0m\u001b[0m\n\u001b[0;32m     24\u001b[0m         \u001b[0mgenerated\u001b[0m \u001b[1;33m+=\u001b[0m \u001b[0mnewGenerated\u001b[0m\u001b[1;33m\u001b[0m\u001b[1;33m\u001b[0m\u001b[0m\n",
            "\u001b[1;32m~\\AppData\\Local\\Temp/ipykernel_8384/924351699.py\u001b[0m in \u001b[0;36mmain\u001b[1;34m(heuristic, printProblemInstance, rows, cols, seed, maxDivisions, garbageCount, algorithm, configFile)\u001b[0m\n\u001b[0;32m     34\u001b[0m \u001b[1;33m\u001b[0m\u001b[0m\n\u001b[0;32m     35\u001b[0m     \u001b[0mtime_start\u001b[0m \u001b[1;33m=\u001b[0m \u001b[0mperf_counter\u001b[0m\u001b[1;33m(\u001b[0m\u001b[1;33m)\u001b[0m\u001b[1;33m\u001b[0m\u001b[1;33m\u001b[0m\u001b[0m\n\u001b[1;32m---> 36\u001b[1;33m     \u001b[0mpath\u001b[0m\u001b[1;33m,\u001b[0m \u001b[0mdepth\u001b[0m\u001b[1;33m,\u001b[0m \u001b[0mgenerated\u001b[0m\u001b[1;33m,\u001b[0m \u001b[0mexpanded\u001b[0m\u001b[1;33m,\u001b[0m \u001b[0mexplored\u001b[0m\u001b[1;33m,\u001b[0m \u001b[0mcost\u001b[0m \u001b[1;33m=\u001b[0m \u001b[0msearch\u001b[0m\u001b[1;33m.\u001b[0m\u001b[0mdoSearch\u001b[0m\u001b[1;33m(\u001b[0m\u001b[1;33m)\u001b[0m\u001b[1;33m\u001b[0m\u001b[1;33m\u001b[0m\u001b[0m\n\u001b[0m\u001b[0;32m     37\u001b[0m     \u001b[0mtime_end\u001b[0m \u001b[1;33m=\u001b[0m \u001b[0mperf_counter\u001b[0m\u001b[1;33m(\u001b[0m\u001b[1;33m)\u001b[0m\u001b[1;33m\u001b[0m\u001b[1;33m\u001b[0m\u001b[0m\n\u001b[0;32m     38\u001b[0m     \u001b[1;31m#print(\"\")\u001b[0m\u001b[1;33m\u001b[0m\u001b[1;33m\u001b[0m\u001b[0m\n",
            "\u001b[1;32m~\\AppData\\Local\\Temp/ipykernel_8384/375572423.py\u001b[0m in \u001b[0;36mdoSearch\u001b[1;34m(self)\u001b[0m\n\u001b[0;32m     79\u001b[0m           \u001b[1;31m# We check whether the node we have picked from open has been explored\u001b[0m\u001b[1;33m\u001b[0m\u001b[1;33m\u001b[0m\u001b[0m\n\u001b[0;32m     80\u001b[0m           \u001b[1;32mif\u001b[0m \u001b[0mcurrentNode\u001b[0m\u001b[1;33m.\u001b[0m\u001b[0mgetState\u001b[0m\u001b[1;33m(\u001b[0m\u001b[1;33m)\u001b[0m \u001b[1;32mnot\u001b[0m \u001b[1;32min\u001b[0m \u001b[0mself\u001b[0m\u001b[1;33m.\u001b[0m\u001b[0mclosed\u001b[0m\u001b[1;33m:\u001b[0m\u001b[1;33m\u001b[0m\u001b[1;33m\u001b[0m\u001b[0m\n\u001b[1;32m---> 81\u001b[1;33m             \u001b[0msuc\u001b[0m \u001b[1;33m=\u001b[0m \u001b[0mself\u001b[0m\u001b[1;33m.\u001b[0m\u001b[0mgetSuccesors\u001b[0m\u001b[1;33m(\u001b[0m\u001b[0mcurrentNode\u001b[0m\u001b[1;33m)\u001b[0m\u001b[1;33m\u001b[0m\u001b[1;33m\u001b[0m\u001b[0m\n\u001b[0m\u001b[0;32m     82\u001b[0m             \u001b[1;32mfor\u001b[0m \u001b[0ms\u001b[0m \u001b[1;32min\u001b[0m \u001b[0msuc\u001b[0m\u001b[1;33m:\u001b[0m\u001b[1;33m\u001b[0m\u001b[1;33m\u001b[0m\u001b[0m\n\u001b[0;32m     83\u001b[0m               \u001b[0mself\u001b[0m\u001b[1;33m.\u001b[0m\u001b[0minsertNode\u001b[0m\u001b[1;33m(\u001b[0m\u001b[0ms\u001b[0m\u001b[1;33m)\u001b[0m\u001b[1;33m\u001b[0m\u001b[1;33m\u001b[0m\u001b[0m\n",
            "\u001b[1;32m~\\AppData\\Local\\Temp/ipykernel_8384/375572423.py\u001b[0m in \u001b[0;36mgetSuccesors\u001b[1;34m(self, node)\u001b[0m\n\u001b[0;32m     24\u001b[0m         \u001b[1;32mfor\u001b[0m \u001b[0ma\u001b[0m \u001b[1;32min\u001b[0m \u001b[0mself\u001b[0m\u001b[1;33m.\u001b[0m\u001b[0mproblem\u001b[0m\u001b[1;33m.\u001b[0m\u001b[0mgetActions\u001b[0m\u001b[1;33m(\u001b[0m\u001b[1;33m)\u001b[0m\u001b[1;33m:\u001b[0m\u001b[1;33m\u001b[0m\u001b[1;33m\u001b[0m\u001b[0m\n\u001b[0;32m     25\u001b[0m             \u001b[0maction\u001b[0m \u001b[1;33m=\u001b[0m \u001b[0mAction\u001b[0m\u001b[1;33m(\u001b[0m\u001b[0ma\u001b[0m\u001b[1;33m)\u001b[0m\u001b[1;33m\u001b[0m\u001b[1;33m\u001b[0m\u001b[0m\n\u001b[1;32m---> 26\u001b[1;33m             \u001b[0mauxState\u001b[0m \u001b[1;33m=\u001b[0m \u001b[0mnode\u001b[0m\u001b[1;33m.\u001b[0m\u001b[0mgetState\u001b[0m\u001b[1;33m(\u001b[0m\u001b[1;33m)\u001b[0m\u001b[1;33m.\u001b[0m\u001b[0mapplyAction\u001b[0m\u001b[1;33m(\u001b[0m\u001b[0maction\u001b[0m\u001b[1;33m)\u001b[0m\u001b[1;33m\u001b[0m\u001b[1;33m\u001b[0m\u001b[0m\n\u001b[0m\u001b[0;32m     27\u001b[0m \u001b[1;33m\u001b[0m\u001b[0m\n\u001b[0;32m     28\u001b[0m             \u001b[1;31m# We check if the state is inside the maze and not out of bounds\u001b[0m\u001b[1;33m\u001b[0m\u001b[1;33m\u001b[0m\u001b[0m\n",
            "\u001b[1;32m~\\AppData\\Local\\Temp/ipykernel_8384/3661275693.py\u001b[0m in \u001b[0;36mapplyAction\u001b[1;34m(self, action)\u001b[0m\n\u001b[0;32m     22\u001b[0m \u001b[1;33m\u001b[0m\u001b[0m\n\u001b[0;32m     23\u001b[0m     \u001b[1;32mdef\u001b[0m \u001b[0mapplyAction\u001b[0m\u001b[1;33m(\u001b[0m\u001b[0mself\u001b[0m\u001b[1;33m,\u001b[0m \u001b[0maction\u001b[0m\u001b[1;33m)\u001b[0m\u001b[1;33m:\u001b[0m\u001b[1;33m\u001b[0m\u001b[1;33m\u001b[0m\u001b[0m\n\u001b[1;32m---> 24\u001b[1;33m         \u001b[0mst\u001b[0m \u001b[1;33m=\u001b[0m \u001b[0mcopy\u001b[0m\u001b[1;33m.\u001b[0m\u001b[0mdeepcopy\u001b[0m\u001b[1;33m(\u001b[0m\u001b[0mself\u001b[0m\u001b[1;33m)\u001b[0m\u001b[1;33m\u001b[0m\u001b[1;33m\u001b[0m\u001b[0m\n\u001b[0m\u001b[0;32m     25\u001b[0m \u001b[1;33m\u001b[0m\u001b[0m\n\u001b[0;32m     26\u001b[0m         \u001b[1;32mif\u001b[0m \u001b[1;33m(\u001b[0m\u001b[0maction\u001b[0m\u001b[1;33m.\u001b[0m\u001b[0mmove\u001b[0m \u001b[1;33m==\u001b[0m \u001b[1;34m\"UP\"\u001b[0m\u001b[1;33m)\u001b[0m\u001b[1;33m:\u001b[0m\u001b[1;33m\u001b[0m\u001b[1;33m\u001b[0m\u001b[0m\n",
            "\u001b[1;32m~\\AppData\\Local\\Programs\\Python\\Python310\\lib\\copy.py\u001b[0m in \u001b[0;36mdeepcopy\u001b[1;34m(x, memo, _nil)\u001b[0m\n\u001b[0;32m    170\u001b[0m                     \u001b[0my\u001b[0m \u001b[1;33m=\u001b[0m \u001b[0mx\u001b[0m\u001b[1;33m\u001b[0m\u001b[1;33m\u001b[0m\u001b[0m\n\u001b[0;32m    171\u001b[0m                 \u001b[1;32melse\u001b[0m\u001b[1;33m:\u001b[0m\u001b[1;33m\u001b[0m\u001b[1;33m\u001b[0m\u001b[0m\n\u001b[1;32m--> 172\u001b[1;33m                     \u001b[0my\u001b[0m \u001b[1;33m=\u001b[0m \u001b[0m_reconstruct\u001b[0m\u001b[1;33m(\u001b[0m\u001b[0mx\u001b[0m\u001b[1;33m,\u001b[0m \u001b[0mmemo\u001b[0m\u001b[1;33m,\u001b[0m \u001b[1;33m*\u001b[0m\u001b[0mrv\u001b[0m\u001b[1;33m)\u001b[0m\u001b[1;33m\u001b[0m\u001b[1;33m\u001b[0m\u001b[0m\n\u001b[0m\u001b[0;32m    173\u001b[0m \u001b[1;33m\u001b[0m\u001b[0m\n\u001b[0;32m    174\u001b[0m     \u001b[1;31m# If is its own copy, don't memoize.\u001b[0m\u001b[1;33m\u001b[0m\u001b[1;33m\u001b[0m\u001b[0m\n",
            "\u001b[1;32m~\\AppData\\Local\\Programs\\Python\\Python310\\lib\\copy.py\u001b[0m in \u001b[0;36m_reconstruct\u001b[1;34m(x, memo, func, args, state, listiter, dictiter, deepcopy)\u001b[0m\n\u001b[0;32m    269\u001b[0m     \u001b[1;32mif\u001b[0m \u001b[0mstate\u001b[0m \u001b[1;32mis\u001b[0m \u001b[1;32mnot\u001b[0m \u001b[1;32mNone\u001b[0m\u001b[1;33m:\u001b[0m\u001b[1;33m\u001b[0m\u001b[1;33m\u001b[0m\u001b[0m\n\u001b[0;32m    270\u001b[0m         \u001b[1;32mif\u001b[0m \u001b[0mdeep\u001b[0m\u001b[1;33m:\u001b[0m\u001b[1;33m\u001b[0m\u001b[1;33m\u001b[0m\u001b[0m\n\u001b[1;32m--> 271\u001b[1;33m             \u001b[0mstate\u001b[0m \u001b[1;33m=\u001b[0m \u001b[0mdeepcopy\u001b[0m\u001b[1;33m(\u001b[0m\u001b[0mstate\u001b[0m\u001b[1;33m,\u001b[0m \u001b[0mmemo\u001b[0m\u001b[1;33m)\u001b[0m\u001b[1;33m\u001b[0m\u001b[1;33m\u001b[0m\u001b[0m\n\u001b[0m\u001b[0;32m    272\u001b[0m         \u001b[1;32mif\u001b[0m \u001b[0mhasattr\u001b[0m\u001b[1;33m(\u001b[0m\u001b[0my\u001b[0m\u001b[1;33m,\u001b[0m \u001b[1;34m'__setstate__'\u001b[0m\u001b[1;33m)\u001b[0m\u001b[1;33m:\u001b[0m\u001b[1;33m\u001b[0m\u001b[1;33m\u001b[0m\u001b[0m\n\u001b[0;32m    273\u001b[0m             \u001b[0my\u001b[0m\u001b[1;33m.\u001b[0m\u001b[0m__setstate__\u001b[0m\u001b[1;33m(\u001b[0m\u001b[0mstate\u001b[0m\u001b[1;33m)\u001b[0m\u001b[1;33m\u001b[0m\u001b[1;33m\u001b[0m\u001b[0m\n",
            "\u001b[1;32m~\\AppData\\Local\\Programs\\Python\\Python310\\lib\\copy.py\u001b[0m in \u001b[0;36mdeepcopy\u001b[1;34m(x, memo, _nil)\u001b[0m\n\u001b[0;32m    144\u001b[0m     \u001b[0mcopier\u001b[0m \u001b[1;33m=\u001b[0m \u001b[0m_deepcopy_dispatch\u001b[0m\u001b[1;33m.\u001b[0m\u001b[0mget\u001b[0m\u001b[1;33m(\u001b[0m\u001b[0mcls\u001b[0m\u001b[1;33m)\u001b[0m\u001b[1;33m\u001b[0m\u001b[1;33m\u001b[0m\u001b[0m\n\u001b[0;32m    145\u001b[0m     \u001b[1;32mif\u001b[0m \u001b[0mcopier\u001b[0m \u001b[1;32mis\u001b[0m \u001b[1;32mnot\u001b[0m \u001b[1;32mNone\u001b[0m\u001b[1;33m:\u001b[0m\u001b[1;33m\u001b[0m\u001b[1;33m\u001b[0m\u001b[0m\n\u001b[1;32m--> 146\u001b[1;33m         \u001b[0my\u001b[0m \u001b[1;33m=\u001b[0m \u001b[0mcopier\u001b[0m\u001b[1;33m(\u001b[0m\u001b[0mx\u001b[0m\u001b[1;33m,\u001b[0m \u001b[0mmemo\u001b[0m\u001b[1;33m)\u001b[0m\u001b[1;33m\u001b[0m\u001b[1;33m\u001b[0m\u001b[0m\n\u001b[0m\u001b[0;32m    147\u001b[0m     \u001b[1;32melse\u001b[0m\u001b[1;33m:\u001b[0m\u001b[1;33m\u001b[0m\u001b[1;33m\u001b[0m\u001b[0m\n\u001b[0;32m    148\u001b[0m         \u001b[1;32mif\u001b[0m \u001b[0missubclass\u001b[0m\u001b[1;33m(\u001b[0m\u001b[0mcls\u001b[0m\u001b[1;33m,\u001b[0m \u001b[0mtype\u001b[0m\u001b[1;33m)\u001b[0m\u001b[1;33m:\u001b[0m\u001b[1;33m\u001b[0m\u001b[1;33m\u001b[0m\u001b[0m\n",
            "\u001b[1;32m~\\AppData\\Local\\Programs\\Python\\Python310\\lib\\copy.py\u001b[0m in \u001b[0;36m_deepcopy_dict\u001b[1;34m(x, memo, deepcopy)\u001b[0m\n\u001b[0;32m    229\u001b[0m     \u001b[0mmemo\u001b[0m\u001b[1;33m[\u001b[0m\u001b[0mid\u001b[0m\u001b[1;33m(\u001b[0m\u001b[0mx\u001b[0m\u001b[1;33m)\u001b[0m\u001b[1;33m]\u001b[0m \u001b[1;33m=\u001b[0m \u001b[0my\u001b[0m\u001b[1;33m\u001b[0m\u001b[1;33m\u001b[0m\u001b[0m\n\u001b[0;32m    230\u001b[0m     \u001b[1;32mfor\u001b[0m \u001b[0mkey\u001b[0m\u001b[1;33m,\u001b[0m \u001b[0mvalue\u001b[0m \u001b[1;32min\u001b[0m \u001b[0mx\u001b[0m\u001b[1;33m.\u001b[0m\u001b[0mitems\u001b[0m\u001b[1;33m(\u001b[0m\u001b[1;33m)\u001b[0m\u001b[1;33m:\u001b[0m\u001b[1;33m\u001b[0m\u001b[1;33m\u001b[0m\u001b[0m\n\u001b[1;32m--> 231\u001b[1;33m         \u001b[0my\u001b[0m\u001b[1;33m[\u001b[0m\u001b[0mdeepcopy\u001b[0m\u001b[1;33m(\u001b[0m\u001b[0mkey\u001b[0m\u001b[1;33m,\u001b[0m \u001b[0mmemo\u001b[0m\u001b[1;33m)\u001b[0m\u001b[1;33m]\u001b[0m \u001b[1;33m=\u001b[0m \u001b[0mdeepcopy\u001b[0m\u001b[1;33m(\u001b[0m\u001b[0mvalue\u001b[0m\u001b[1;33m,\u001b[0m \u001b[0mmemo\u001b[0m\u001b[1;33m)\u001b[0m\u001b[1;33m\u001b[0m\u001b[1;33m\u001b[0m\u001b[0m\n\u001b[0m\u001b[0;32m    232\u001b[0m     \u001b[1;32mreturn\u001b[0m \u001b[0my\u001b[0m\u001b[1;33m\u001b[0m\u001b[1;33m\u001b[0m\u001b[0m\n\u001b[0;32m    233\u001b[0m \u001b[0md\u001b[0m\u001b[1;33m[\u001b[0m\u001b[0mdict\u001b[0m\u001b[1;33m]\u001b[0m \u001b[1;33m=\u001b[0m \u001b[0m_deepcopy_dict\u001b[0m\u001b[1;33m\u001b[0m\u001b[1;33m\u001b[0m\u001b[0m\n",
            "\u001b[1;32m~\\AppData\\Local\\Programs\\Python\\Python310\\lib\\copy.py\u001b[0m in \u001b[0;36mdeepcopy\u001b[1;34m(x, memo, _nil)\u001b[0m\n\u001b[0;32m    144\u001b[0m     \u001b[0mcopier\u001b[0m \u001b[1;33m=\u001b[0m \u001b[0m_deepcopy_dispatch\u001b[0m\u001b[1;33m.\u001b[0m\u001b[0mget\u001b[0m\u001b[1;33m(\u001b[0m\u001b[0mcls\u001b[0m\u001b[1;33m)\u001b[0m\u001b[1;33m\u001b[0m\u001b[1;33m\u001b[0m\u001b[0m\n\u001b[0;32m    145\u001b[0m     \u001b[1;32mif\u001b[0m \u001b[0mcopier\u001b[0m \u001b[1;32mis\u001b[0m \u001b[1;32mnot\u001b[0m \u001b[1;32mNone\u001b[0m\u001b[1;33m:\u001b[0m\u001b[1;33m\u001b[0m\u001b[1;33m\u001b[0m\u001b[0m\n\u001b[1;32m--> 146\u001b[1;33m         \u001b[0my\u001b[0m \u001b[1;33m=\u001b[0m \u001b[0mcopier\u001b[0m\u001b[1;33m(\u001b[0m\u001b[0mx\u001b[0m\u001b[1;33m,\u001b[0m \u001b[0mmemo\u001b[0m\u001b[1;33m)\u001b[0m\u001b[1;33m\u001b[0m\u001b[1;33m\u001b[0m\u001b[0m\n\u001b[0m\u001b[0;32m    147\u001b[0m     \u001b[1;32melse\u001b[0m\u001b[1;33m:\u001b[0m\u001b[1;33m\u001b[0m\u001b[1;33m\u001b[0m\u001b[0m\n\u001b[0;32m    148\u001b[0m         \u001b[1;32mif\u001b[0m \u001b[0missubclass\u001b[0m\u001b[1;33m(\u001b[0m\u001b[0mcls\u001b[0m\u001b[1;33m,\u001b[0m \u001b[0mtype\u001b[0m\u001b[1;33m)\u001b[0m\u001b[1;33m:\u001b[0m\u001b[1;33m\u001b[0m\u001b[1;33m\u001b[0m\u001b[0m\n",
            "\u001b[1;32m~\\AppData\\Local\\Programs\\Python\\Python310\\lib\\copy.py\u001b[0m in \u001b[0;36m_deepcopy_list\u001b[1;34m(x, memo, deepcopy)\u001b[0m\n\u001b[0;32m    204\u001b[0m     \u001b[0mappend\u001b[0m \u001b[1;33m=\u001b[0m \u001b[0my\u001b[0m\u001b[1;33m.\u001b[0m\u001b[0mappend\u001b[0m\u001b[1;33m\u001b[0m\u001b[1;33m\u001b[0m\u001b[0m\n\u001b[0;32m    205\u001b[0m     \u001b[1;32mfor\u001b[0m \u001b[0ma\u001b[0m \u001b[1;32min\u001b[0m \u001b[0mx\u001b[0m\u001b[1;33m:\u001b[0m\u001b[1;33m\u001b[0m\u001b[1;33m\u001b[0m\u001b[0m\n\u001b[1;32m--> 206\u001b[1;33m         \u001b[0mappend\u001b[0m\u001b[1;33m(\u001b[0m\u001b[0mdeepcopy\u001b[0m\u001b[1;33m(\u001b[0m\u001b[0ma\u001b[0m\u001b[1;33m,\u001b[0m \u001b[0mmemo\u001b[0m\u001b[1;33m)\u001b[0m\u001b[1;33m)\u001b[0m\u001b[1;33m\u001b[0m\u001b[1;33m\u001b[0m\u001b[0m\n\u001b[0m\u001b[0;32m    207\u001b[0m     \u001b[1;32mreturn\u001b[0m \u001b[0my\u001b[0m\u001b[1;33m\u001b[0m\u001b[1;33m\u001b[0m\u001b[0m\n\u001b[0;32m    208\u001b[0m \u001b[0md\u001b[0m\u001b[1;33m[\u001b[0m\u001b[0mlist\u001b[0m\u001b[1;33m]\u001b[0m \u001b[1;33m=\u001b[0m \u001b[0m_deepcopy_list\u001b[0m\u001b[1;33m\u001b[0m\u001b[1;33m\u001b[0m\u001b[0m\n",
            "\u001b[1;32m~\\AppData\\Local\\Programs\\Python\\Python310\\lib\\copy.py\u001b[0m in \u001b[0;36mdeepcopy\u001b[1;34m(x, memo, _nil)\u001b[0m\n\u001b[0;32m    144\u001b[0m     \u001b[0mcopier\u001b[0m \u001b[1;33m=\u001b[0m \u001b[0m_deepcopy_dispatch\u001b[0m\u001b[1;33m.\u001b[0m\u001b[0mget\u001b[0m\u001b[1;33m(\u001b[0m\u001b[0mcls\u001b[0m\u001b[1;33m)\u001b[0m\u001b[1;33m\u001b[0m\u001b[1;33m\u001b[0m\u001b[0m\n\u001b[0;32m    145\u001b[0m     \u001b[1;32mif\u001b[0m \u001b[0mcopier\u001b[0m \u001b[1;32mis\u001b[0m \u001b[1;32mnot\u001b[0m \u001b[1;32mNone\u001b[0m\u001b[1;33m:\u001b[0m\u001b[1;33m\u001b[0m\u001b[1;33m\u001b[0m\u001b[0m\n\u001b[1;32m--> 146\u001b[1;33m         \u001b[0my\u001b[0m \u001b[1;33m=\u001b[0m \u001b[0mcopier\u001b[0m\u001b[1;33m(\u001b[0m\u001b[0mx\u001b[0m\u001b[1;33m,\u001b[0m \u001b[0mmemo\u001b[0m\u001b[1;33m)\u001b[0m\u001b[1;33m\u001b[0m\u001b[1;33m\u001b[0m\u001b[0m\n\u001b[0m\u001b[0;32m    147\u001b[0m     \u001b[1;32melse\u001b[0m\u001b[1;33m:\u001b[0m\u001b[1;33m\u001b[0m\u001b[1;33m\u001b[0m\u001b[0m\n\u001b[0;32m    148\u001b[0m         \u001b[1;32mif\u001b[0m \u001b[0missubclass\u001b[0m\u001b[1;33m(\u001b[0m\u001b[0mcls\u001b[0m\u001b[1;33m,\u001b[0m \u001b[0mtype\u001b[0m\u001b[1;33m)\u001b[0m\u001b[1;33m:\u001b[0m\u001b[1;33m\u001b[0m\u001b[1;33m\u001b[0m\u001b[0m\n",
            "\u001b[1;32m~\\AppData\\Local\\Programs\\Python\\Python310\\lib\\copy.py\u001b[0m in \u001b[0;36m_deepcopy_tuple\u001b[1;34m(x, memo, deepcopy)\u001b[0m\n\u001b[0;32m    209\u001b[0m \u001b[1;33m\u001b[0m\u001b[0m\n\u001b[0;32m    210\u001b[0m \u001b[1;32mdef\u001b[0m \u001b[0m_deepcopy_tuple\u001b[0m\u001b[1;33m(\u001b[0m\u001b[0mx\u001b[0m\u001b[1;33m,\u001b[0m \u001b[0mmemo\u001b[0m\u001b[1;33m,\u001b[0m \u001b[0mdeepcopy\u001b[0m\u001b[1;33m=\u001b[0m\u001b[0mdeepcopy\u001b[0m\u001b[1;33m)\u001b[0m\u001b[1;33m:\u001b[0m\u001b[1;33m\u001b[0m\u001b[1;33m\u001b[0m\u001b[0m\n\u001b[1;32m--> 211\u001b[1;33m     \u001b[0my\u001b[0m \u001b[1;33m=\u001b[0m \u001b[1;33m[\u001b[0m\u001b[0mdeepcopy\u001b[0m\u001b[1;33m(\u001b[0m\u001b[0ma\u001b[0m\u001b[1;33m,\u001b[0m \u001b[0mmemo\u001b[0m\u001b[1;33m)\u001b[0m \u001b[1;32mfor\u001b[0m \u001b[0ma\u001b[0m \u001b[1;32min\u001b[0m \u001b[0mx\u001b[0m\u001b[1;33m]\u001b[0m\u001b[1;33m\u001b[0m\u001b[1;33m\u001b[0m\u001b[0m\n\u001b[0m\u001b[0;32m    212\u001b[0m     \u001b[1;31m# We're not going to put the tuple in the memo, but it's still important we\u001b[0m\u001b[1;33m\u001b[0m\u001b[1;33m\u001b[0m\u001b[0m\n\u001b[0;32m    213\u001b[0m     \u001b[1;31m# check for it, in case the tuple contains recursive mutable structures.\u001b[0m\u001b[1;33m\u001b[0m\u001b[1;33m\u001b[0m\u001b[0m\n",
            "\u001b[1;32m~\\AppData\\Local\\Programs\\Python\\Python310\\lib\\copy.py\u001b[0m in \u001b[0;36m<listcomp>\u001b[1;34m(.0)\u001b[0m\n\u001b[0;32m    209\u001b[0m \u001b[1;33m\u001b[0m\u001b[0m\n\u001b[0;32m    210\u001b[0m \u001b[1;32mdef\u001b[0m \u001b[0m_deepcopy_tuple\u001b[0m\u001b[1;33m(\u001b[0m\u001b[0mx\u001b[0m\u001b[1;33m,\u001b[0m \u001b[0mmemo\u001b[0m\u001b[1;33m,\u001b[0m \u001b[0mdeepcopy\u001b[0m\u001b[1;33m=\u001b[0m\u001b[0mdeepcopy\u001b[0m\u001b[1;33m)\u001b[0m\u001b[1;33m:\u001b[0m\u001b[1;33m\u001b[0m\u001b[1;33m\u001b[0m\u001b[0m\n\u001b[1;32m--> 211\u001b[1;33m     \u001b[0my\u001b[0m \u001b[1;33m=\u001b[0m \u001b[1;33m[\u001b[0m\u001b[0mdeepcopy\u001b[0m\u001b[1;33m(\u001b[0m\u001b[0ma\u001b[0m\u001b[1;33m,\u001b[0m \u001b[0mmemo\u001b[0m\u001b[1;33m)\u001b[0m \u001b[1;32mfor\u001b[0m \u001b[0ma\u001b[0m \u001b[1;32min\u001b[0m \u001b[0mx\u001b[0m\u001b[1;33m]\u001b[0m\u001b[1;33m\u001b[0m\u001b[1;33m\u001b[0m\u001b[0m\n\u001b[0m\u001b[0;32m    212\u001b[0m     \u001b[1;31m# We're not going to put the tuple in the memo, but it's still important we\u001b[0m\u001b[1;33m\u001b[0m\u001b[1;33m\u001b[0m\u001b[0m\n\u001b[0;32m    213\u001b[0m     \u001b[1;31m# check for it, in case the tuple contains recursive mutable structures.\u001b[0m\u001b[1;33m\u001b[0m\u001b[1;33m\u001b[0m\u001b[0m\n",
            "\u001b[1;32m~\\AppData\\Local\\Programs\\Python\\Python310\\lib\\copy.py\u001b[0m in \u001b[0;36mdeepcopy\u001b[1;34m(x, memo, _nil)\u001b[0m\n\u001b[0;32m    137\u001b[0m     \u001b[0md\u001b[0m \u001b[1;33m=\u001b[0m \u001b[0mid\u001b[0m\u001b[1;33m(\u001b[0m\u001b[0mx\u001b[0m\u001b[1;33m)\u001b[0m\u001b[1;33m\u001b[0m\u001b[1;33m\u001b[0m\u001b[0m\n\u001b[0;32m    138\u001b[0m     \u001b[0my\u001b[0m \u001b[1;33m=\u001b[0m \u001b[0mmemo\u001b[0m\u001b[1;33m.\u001b[0m\u001b[0mget\u001b[0m\u001b[1;33m(\u001b[0m\u001b[0md\u001b[0m\u001b[1;33m,\u001b[0m \u001b[0m_nil\u001b[0m\u001b[1;33m)\u001b[0m\u001b[1;33m\u001b[0m\u001b[1;33m\u001b[0m\u001b[0m\n\u001b[1;32m--> 139\u001b[1;33m     \u001b[1;32mif\u001b[0m \u001b[0my\u001b[0m \u001b[1;32mis\u001b[0m \u001b[1;32mnot\u001b[0m \u001b[0m_nil\u001b[0m\u001b[1;33m:\u001b[0m\u001b[1;33m\u001b[0m\u001b[1;33m\u001b[0m\u001b[0m\n\u001b[0m\u001b[0;32m    140\u001b[0m         \u001b[1;32mreturn\u001b[0m \u001b[0my\u001b[0m\u001b[1;33m\u001b[0m\u001b[1;33m\u001b[0m\u001b[0m\n\u001b[0;32m    141\u001b[0m \u001b[1;33m\u001b[0m\u001b[0m\n",
            "\u001b[1;31mKeyboardInterrupt\u001b[0m: "
          ]
        }
      ],
      "source": [
        "algorithms = {\"DepthFirst\", \"BreadthFirst\", \"UniformCost\", \"BestFirst\", \"AStar\"}\n",
        "\n",
        "rows = 30\n",
        "cols = 30\n",
        "seed = 25\n",
        "maxDivisions = 20\n",
        "garbageCount = 10\n",
        "heuristic = \"Javivi\"\n",
        "printProblemInstance = False\n",
        "\n",
        "for alg in algorithms:\n",
        "    print(\"Algorithm: \" + str(alg))\n",
        "    i = 1\n",
        "    depth = 0\n",
        "    generated = 0\n",
        "    expanded = 0\n",
        "    explored = 0\n",
        "    cost = 0\n",
        "    time = 0\n",
        "    for i in range(10):\n",
        "        newSeed = i * seed\n",
        "        path_sol, newDepth, newGenerated, newExpanded, newExplored, newCost, newTime = main(heuristic, printProblemInstance, rows, cols, newSeed, maxDivisions, garbageCount, alg)\n",
        "        depth += newDepth\n",
        "        generated += newGenerated\n",
        "        expanded += newExpanded\n",
        "        explored += newExplored\n",
        "        cost += newCost\n",
        "        time += newTime\n",
        "\n",
        "    averageDepth = depth / 10\n",
        "    averageGenerated = generated / 10\n",
        "    averageExpanded = expanded / 10\n",
        "    averageExplored = explored / 10\n",
        "    averageCost = cost / 10\n",
        "    averageTime = time / 10\n",
        "\n",
        "    print(\"Depth: \" + str(averageDepth))\n",
        "    print(\"Generated: \" + str(averageGenerated))\n",
        "    print(\"Expanded: \" + str(averageExpanded))\n",
        "    print(\"Explored: \" + str(averageExplored))\n",
        "    print(\"Cost: \" + str(averageCost))\n",
        "    print(\"Time: \" + str(averageTime))\n",
        "    print(\"\")"
      ]
    },
    {
      "cell_type": "markdown",
      "id": "931be86d",
      "metadata": {
        "id": "931be86d"
      },
      "source": [
        "## Experimental results\n",
        "\n",
        "Once the algorithms have been implemented, you must study their performance. In order to do that, you must compare the quality of the solutions obtained, as well as the number of expanded nodes for instances of different maze sizes, number of walls and number of garbage cells.\n",
        "\n",
        "Please, use new cells to insert code to carry out the experimental results and study of the algorithms."
      ]
    },
    {
      "cell_type": "code",
      "execution_count": 131,
      "metadata": {},
      "outputs": [],
      "source": [
        "rows = 25\n",
        "cols = 25\n",
        "seed = 102\n",
        "maxDivisions = 20\n",
        "garbageCount = 6\n",
        "algorithm = \"BestFirst\"\n",
        "heuristic = \"Javivi\"\n",
        "printProblemInstance = False\n",
        "\n",
        "# path_sol = main(heuristic, printProblemInstance, rows, cols, seed, maxDivisions, garbageCount, algorithm)"
      ]
    },
    {
      "cell_type": "code",
      "execution_count": 132,
      "metadata": {},
      "outputs": [],
      "source": [
        "rows = 25\n",
        "cols = 25\n",
        "seed = 102\n",
        "maxDivisions = 20\n",
        "garbageCount = 6\n",
        "algorithm = \"BestFirst\"\n",
        "heuristic = \"Galletas\"\n",
        "printProblemInstance = False\n",
        "\n",
        "# path_sol = main(heuristic, printProblemInstance, rows, cols, seed, maxDivisions, garbageCount, algorithm)"
      ]
    },
    {
      "cell_type": "code",
      "execution_count": 133,
      "metadata": {},
      "outputs": [],
      "source": [
        "rows = 25\n",
        "cols = 25\n",
        "seed = 102\n",
        "maxDivisions = 20\n",
        "garbageCount = 6\n",
        "algorithm = \"BestFirst\"\n",
        "heuristic = \"Manhattan\"\n",
        "printProblemInstance = False\n",
        "\n",
        "# path_sol = main(heuristic, printProblemInstance, rows, cols, seed, maxDivisions, garbageCount, algorithm)"
      ]
    },
    {
      "cell_type": "code",
      "execution_count": 134,
      "id": "1f3545dd",
      "metadata": {
        "colab": {
          "base_uri": "https://localhost:8080/"
        },
        "id": "1f3545dd",
        "outputId": "3a099935-d3cd-471f-deac-c50bac8c3d0f"
      },
      "outputs": [],
      "source": [
        "rows = 25\n",
        "cols = 25\n",
        "seed = 102\n",
        "maxDivisions = 20\n",
        "garbageCount = 6\n",
        "algorithm = \"AStar\"\n",
        "heuristic = \"Manhattan\"\n",
        "printProblemInstance = False\n",
        "\n",
        "# path_sol = main(printProblemInstance, rows, cols, seed, maxDivisions, garbageCount, algorithm)"
      ]
    },
    {
      "cell_type": "code",
      "execution_count": 135,
      "metadata": {},
      "outputs": [],
      "source": [
        "rows = 25\n",
        "cols = 25\n",
        "seed = 102\n",
        "maxDivisions = 20\n",
        "garbageCount = 6\n",
        "algorithm = \"AStar\"\n",
        "heuristic = \"Javivi\"\n",
        "printProblemInstance = False\n",
        "\n",
        "# path_sol = main(printProblemInstance, rows, cols, seed, maxDivisions, garbageCount, algorithm)"
      ]
    },
    {
      "cell_type": "code",
      "execution_count": 136,
      "id": "5jfwgtun-yYa",
      "metadata": {
        "colab": {
          "base_uri": "https://localhost:8080/",
          "height": 51
        },
        "id": "5jfwgtun-yYa",
        "outputId": "1e39dd4c-7a2b-4570-9a20-953ca9a62a8e"
      },
      "outputs": [
        {
          "data": {
            "text/plain": [
              "'\\nx = 0\\ny = 0\\nfor x in range(rows, 10):\\n  for y in range(cols, 10):\\n    for z in range(seed, 5):\\n      for i in range(garbageCount, 2):\\n        path_sol = main(heuristic, printProblemInstance, x, y, z, maxDivisions, i, algorithm)\\n        '"
            ]
          },
          "execution_count": 136,
          "metadata": {},
          "output_type": "execute_result"
        }
      ],
      "source": [
        "# Testing\n",
        "\n",
        "rows = 5\n",
        "cols = 5\n",
        "seed = 1\n",
        "maxDivisions = 15\n",
        "garbageCount = 1\n",
        "algorithm = \"UniformCost\"\n",
        "heuristic = \"Manhattan\"\n",
        "printProblemInstance = False\n",
        "\n",
        "'''\n",
        "x = 0\n",
        "y = 0\n",
        "for x in range(rows, 10):\n",
        "  for y in range(cols, 10):\n",
        "    for z in range(seed, 5):\n",
        "      for i in range(garbageCount, 2):\n",
        "        path_sol = main(heuristic, printProblemInstance, x, y, z, maxDivisions, i, algorithm)\n",
        "        '''"
      ]
    },
    {
      "cell_type": "markdown",
      "metadata": {},
      "source": [
        "<h2> ASSIGNMENT 2 - EXAM QUESTIONNAIRE - PABLO LARIO GÓMEZ</h2>"
      ]
    },
    {
      "cell_type": "markdown",
      "metadata": {},
      "source": [
        "<h2>QUESTION 3</h2>"
      ]
    },
    {
      "cell_type": "code",
      "execution_count": 137,
      "metadata": {},
      "outputs": [],
      "source": [
        "rows = 12 \n",
        "cols = 14 \n",
        "seed = 777 \n",
        "maxDivisions = 8 \n",
        "garbageCount = 6 \n",
        "algorithm = \"UniformCost\"\n",
        "heuristic = \"None\"\n",
        "printProblemInstance = False\n",
        "\n",
        "path_sol = main(heuristic, printProblemInstance, rows, cols, seed, maxDivisions, garbageCount, algorithm)"
      ]
    },
    {
      "cell_type": "markdown",
      "metadata": {},
      "source": [
        "<h2>QUESTION 4</h2>"
      ]
    },
    {
      "cell_type": "code",
      "execution_count": 138,
      "metadata": {},
      "outputs": [],
      "source": [
        "rows = 12 \n",
        "cols = 14 \n",
        "seed = 777 \n",
        "maxDivisions = 8 \n",
        "garbageCount = 6\n",
        "algorithm = \"BestFirst\"\n",
        "heuristic = \"Manhattan\"\n",
        "printProblemInstance = False\n",
        "\n",
        "path_sol = main(heuristic, printProblemInstance, rows, cols, seed, maxDivisions, garbageCount, algorithm)"
      ]
    },
    {
      "cell_type": "markdown",
      "metadata": {},
      "source": [
        "<h2>QUESTION 5</h2>"
      ]
    },
    {
      "cell_type": "code",
      "execution_count": 139,
      "metadata": {},
      "outputs": [],
      "source": [
        "rows = 12 \n",
        "cols = 14 \n",
        "seed = 777 \n",
        "maxDivisions = 8 \n",
        "garbageCount = 6 \n",
        "algorithm = \"AStar\"\n",
        "heuristic = \"Javivi\"\n",
        "printProblemInstance = False\n",
        "\n",
        "path_sol = main(heuristic, printProblemInstance, rows, cols, seed, maxDivisions, garbageCount, algorithm)"
      ]
    },
    {
      "cell_type": "markdown",
      "metadata": {},
      "source": [
        "<h2>QUESTION 10 - 1</h2>"
      ]
    },
    {
      "cell_type": "code",
      "execution_count": 140,
      "metadata": {},
      "outputs": [
        {
          "ename": "KeyboardInterrupt",
          "evalue": "",
          "output_type": "error",
          "traceback": [
            "\u001b[1;31m---------------------------------------------------------------------------\u001b[0m",
            "\u001b[1;31mKeyboardInterrupt\u001b[0m                         Traceback (most recent call last)",
            "\u001b[1;32m~\\AppData\\Local\\Temp/ipykernel_8384/1141678400.py\u001b[0m in \u001b[0;36m<module>\u001b[1;34m\u001b[0m\n\u001b[0;32m      8\u001b[0m \u001b[0mprintProblemInstance\u001b[0m \u001b[1;33m=\u001b[0m \u001b[1;32mFalse\u001b[0m\u001b[1;33m\u001b[0m\u001b[1;33m\u001b[0m\u001b[0m\n\u001b[0;32m      9\u001b[0m \u001b[1;33m\u001b[0m\u001b[0m\n\u001b[1;32m---> 10\u001b[1;33m \u001b[0mpath_sol\u001b[0m \u001b[1;33m=\u001b[0m \u001b[0mmain\u001b[0m\u001b[1;33m(\u001b[0m\u001b[0mheuristic\u001b[0m\u001b[1;33m,\u001b[0m \u001b[0mprintProblemInstance\u001b[0m\u001b[1;33m,\u001b[0m \u001b[0mrows\u001b[0m\u001b[1;33m,\u001b[0m \u001b[0mcols\u001b[0m\u001b[1;33m,\u001b[0m \u001b[0mseed\u001b[0m\u001b[1;33m,\u001b[0m \u001b[0mmaxDivisions\u001b[0m\u001b[1;33m,\u001b[0m \u001b[0mgarbageCount\u001b[0m\u001b[1;33m,\u001b[0m \u001b[0malgorithm\u001b[0m\u001b[1;33m)\u001b[0m\u001b[1;33m\u001b[0m\u001b[1;33m\u001b[0m\u001b[0m\n\u001b[0m",
            "\u001b[1;32m~\\AppData\\Local\\Temp/ipykernel_8384/924351699.py\u001b[0m in \u001b[0;36mmain\u001b[1;34m(heuristic, printProblemInstance, rows, cols, seed, maxDivisions, garbageCount, algorithm, configFile)\u001b[0m\n\u001b[0;32m     34\u001b[0m \u001b[1;33m\u001b[0m\u001b[0m\n\u001b[0;32m     35\u001b[0m     \u001b[0mtime_start\u001b[0m \u001b[1;33m=\u001b[0m \u001b[0mperf_counter\u001b[0m\u001b[1;33m(\u001b[0m\u001b[1;33m)\u001b[0m\u001b[1;33m\u001b[0m\u001b[1;33m\u001b[0m\u001b[0m\n\u001b[1;32m---> 36\u001b[1;33m     \u001b[0mpath\u001b[0m\u001b[1;33m,\u001b[0m \u001b[0mdepth\u001b[0m\u001b[1;33m,\u001b[0m \u001b[0mgenerated\u001b[0m\u001b[1;33m,\u001b[0m \u001b[0mexpanded\u001b[0m\u001b[1;33m,\u001b[0m \u001b[0mexplored\u001b[0m\u001b[1;33m,\u001b[0m \u001b[0mcost\u001b[0m \u001b[1;33m=\u001b[0m \u001b[0msearch\u001b[0m\u001b[1;33m.\u001b[0m\u001b[0mdoSearch\u001b[0m\u001b[1;33m(\u001b[0m\u001b[1;33m)\u001b[0m\u001b[1;33m\u001b[0m\u001b[1;33m\u001b[0m\u001b[0m\n\u001b[0m\u001b[0;32m     37\u001b[0m     \u001b[0mtime_end\u001b[0m \u001b[1;33m=\u001b[0m \u001b[0mperf_counter\u001b[0m\u001b[1;33m(\u001b[0m\u001b[1;33m)\u001b[0m\u001b[1;33m\u001b[0m\u001b[1;33m\u001b[0m\u001b[0m\n\u001b[0;32m     38\u001b[0m     \u001b[1;31m#print(\"\")\u001b[0m\u001b[1;33m\u001b[0m\u001b[1;33m\u001b[0m\u001b[0m\n",
            "\u001b[1;32m~\\AppData\\Local\\Temp/ipykernel_8384/375572423.py\u001b[0m in \u001b[0;36mdoSearch\u001b[1;34m(self)\u001b[0m\n\u001b[0;32m     78\u001b[0m \u001b[1;33m\u001b[0m\u001b[0m\n\u001b[0;32m     79\u001b[0m           \u001b[1;31m# We check whether the node we have picked from open has been explored\u001b[0m\u001b[1;33m\u001b[0m\u001b[1;33m\u001b[0m\u001b[0m\n\u001b[1;32m---> 80\u001b[1;33m           \u001b[1;32mif\u001b[0m \u001b[0mcurrentNode\u001b[0m\u001b[1;33m.\u001b[0m\u001b[0mgetState\u001b[0m\u001b[1;33m(\u001b[0m\u001b[1;33m)\u001b[0m \u001b[1;32mnot\u001b[0m \u001b[1;32min\u001b[0m \u001b[0mself\u001b[0m\u001b[1;33m.\u001b[0m\u001b[0mclosed\u001b[0m\u001b[1;33m:\u001b[0m\u001b[1;33m\u001b[0m\u001b[1;33m\u001b[0m\u001b[0m\n\u001b[0m\u001b[0;32m     81\u001b[0m             \u001b[0msuc\u001b[0m \u001b[1;33m=\u001b[0m \u001b[0mself\u001b[0m\u001b[1;33m.\u001b[0m\u001b[0mgetSuccesors\u001b[0m\u001b[1;33m(\u001b[0m\u001b[0mcurrentNode\u001b[0m\u001b[1;33m)\u001b[0m\u001b[1;33m\u001b[0m\u001b[1;33m\u001b[0m\u001b[0m\n\u001b[0;32m     82\u001b[0m             \u001b[1;32mfor\u001b[0m \u001b[0ms\u001b[0m \u001b[1;32min\u001b[0m \u001b[0msuc\u001b[0m\u001b[1;33m:\u001b[0m\u001b[1;33m\u001b[0m\u001b[1;33m\u001b[0m\u001b[0m\n",
            "\u001b[1;32m~\\AppData\\Local\\Temp/ipykernel_8384/3661275693.py\u001b[0m in \u001b[0;36m__eq__\u001b[1;34m(self, state)\u001b[0m\n\u001b[0;32m      7\u001b[0m     \u001b[1;31m# equals method. Returns true if the states are the same.\u001b[0m\u001b[1;33m\u001b[0m\u001b[1;33m\u001b[0m\u001b[0m\n\u001b[0;32m      8\u001b[0m     \u001b[1;31m# Used for the hash table comparison, compares if both states are equal\u001b[0m\u001b[1;33m\u001b[0m\u001b[1;33m\u001b[0m\u001b[0m\n\u001b[1;32m----> 9\u001b[1;33m     \u001b[1;32mdef\u001b[0m \u001b[0m__eq__\u001b[0m\u001b[1;33m(\u001b[0m\u001b[0mself\u001b[0m\u001b[1;33m,\u001b[0m \u001b[0mstate\u001b[0m\u001b[1;33m)\u001b[0m\u001b[1;33m:\u001b[0m\u001b[1;33m\u001b[0m\u001b[1;33m\u001b[0m\u001b[0m\n\u001b[0m\u001b[0;32m     10\u001b[0m         \u001b[1;32mreturn\u001b[0m \u001b[0mself\u001b[0m\u001b[1;33m.\u001b[0m\u001b[0mpos\u001b[0m \u001b[1;33m==\u001b[0m \u001b[0mstate\u001b[0m\u001b[1;33m.\u001b[0m\u001b[0mpos\u001b[0m \u001b[1;32mand\u001b[0m \u001b[0mself\u001b[0m\u001b[1;33m.\u001b[0m\u001b[0mgarbage\u001b[0m \u001b[1;33m==\u001b[0m \u001b[0mstate\u001b[0m\u001b[1;33m.\u001b[0m\u001b[0mgarbage\u001b[0m\u001b[1;33m\u001b[0m\u001b[1;33m\u001b[0m\u001b[0m\n\u001b[0;32m     11\u001b[0m \u001b[1;33m\u001b[0m\u001b[0m\n",
            "\u001b[1;31mKeyboardInterrupt\u001b[0m: "
          ]
        }
      ],
      "source": [
        "rows = 25 \n",
        "cols = 25 \n",
        "seed = 777\n",
        "maxDivisions = 8 \n",
        "garbageCount = 25 \n",
        "algorithm = \"AStar\"\n",
        "heuristic = \"Javivi\"\n",
        "printProblemInstance = False\n",
        "\n",
        "path_sol = main(heuristic, printProblemInstance, rows, cols, seed, maxDivisions, garbageCount, algorithm)"
      ]
    },
    {
      "cell_type": "markdown",
      "metadata": {},
      "source": [
        "<h2>QUESTION 10 - 2</h2>"
      ]
    },
    {
      "cell_type": "code",
      "execution_count": null,
      "metadata": {},
      "outputs": [
        {
          "ename": "KeyboardInterrupt",
          "evalue": "",
          "output_type": "error",
          "traceback": [
            "\u001b[1;31m---------------------------------------------------------------------------\u001b[0m",
            "\u001b[1;31mKeyboardInterrupt\u001b[0m                         Traceback (most recent call last)",
            "\u001b[1;32m~\\AppData\\Local\\Temp/ipykernel_23812/2372996512.py\u001b[0m in \u001b[0;36m<module>\u001b[1;34m\u001b[0m\n\u001b[0;32m      8\u001b[0m \u001b[0mprintProblemInstance\u001b[0m \u001b[1;33m=\u001b[0m \u001b[1;32mFalse\u001b[0m\u001b[1;33m\u001b[0m\u001b[1;33m\u001b[0m\u001b[0m\n\u001b[0;32m      9\u001b[0m \u001b[1;33m\u001b[0m\u001b[0m\n\u001b[1;32m---> 10\u001b[1;33m \u001b[0mpath_sol\u001b[0m \u001b[1;33m=\u001b[0m \u001b[0mmain\u001b[0m\u001b[1;33m(\u001b[0m\u001b[0mheuristic\u001b[0m\u001b[1;33m,\u001b[0m \u001b[0mprintProblemInstance\u001b[0m\u001b[1;33m,\u001b[0m \u001b[0mrows\u001b[0m\u001b[1;33m,\u001b[0m \u001b[0mcols\u001b[0m\u001b[1;33m,\u001b[0m \u001b[0mseed\u001b[0m\u001b[1;33m,\u001b[0m \u001b[0mmaxDivisions\u001b[0m\u001b[1;33m,\u001b[0m \u001b[0mgarbageCount\u001b[0m\u001b[1;33m,\u001b[0m \u001b[0malgorithm\u001b[0m\u001b[1;33m)\u001b[0m\u001b[1;33m\u001b[0m\u001b[1;33m\u001b[0m\u001b[0m\n\u001b[0m",
            "\u001b[1;32m~\\AppData\\Local\\Temp/ipykernel_23812/3832755810.py\u001b[0m in \u001b[0;36mmain\u001b[1;34m(heuristic, printProblemInstance, rows, cols, seed, maxDivisions, garbageCount, algorithm, configFile)\u001b[0m\n\u001b[0;32m     32\u001b[0m \u001b[1;33m\u001b[0m\u001b[0m\n\u001b[0;32m     33\u001b[0m     \u001b[0mtime_start\u001b[0m \u001b[1;33m=\u001b[0m \u001b[0mtime\u001b[0m\u001b[1;33m.\u001b[0m\u001b[0mperf_counter\u001b[0m\u001b[1;33m(\u001b[0m\u001b[1;33m)\u001b[0m\u001b[1;33m\u001b[0m\u001b[1;33m\u001b[0m\u001b[0m\n\u001b[1;32m---> 34\u001b[1;33m     \u001b[0mpath\u001b[0m \u001b[1;33m=\u001b[0m \u001b[0msearch\u001b[0m\u001b[1;33m.\u001b[0m\u001b[0mdoSearch\u001b[0m\u001b[1;33m(\u001b[0m\u001b[1;33m)\u001b[0m\u001b[1;33m\u001b[0m\u001b[1;33m\u001b[0m\u001b[0m\n\u001b[0m\u001b[0;32m     35\u001b[0m     \u001b[0mtime_end\u001b[0m \u001b[1;33m=\u001b[0m \u001b[0mtime\u001b[0m\u001b[1;33m.\u001b[0m\u001b[0mperf_counter\u001b[0m\u001b[1;33m(\u001b[0m\u001b[1;33m)\u001b[0m\u001b[1;33m\u001b[0m\u001b[1;33m\u001b[0m\u001b[0m\n\u001b[0;32m     36\u001b[0m     \u001b[0mprint\u001b[0m\u001b[1;33m(\u001b[0m\u001b[1;34m\"\"\u001b[0m\u001b[1;33m)\u001b[0m\u001b[1;33m\u001b[0m\u001b[1;33m\u001b[0m\u001b[0m\n",
            "\u001b[1;32m~\\AppData\\Local\\Temp/ipykernel_23812/3042675095.py\u001b[0m in \u001b[0;36mdoSearch\u001b[1;34m(self)\u001b[0m\n\u001b[0;32m     69\u001b[0m \u001b[1;33m\u001b[0m\u001b[0m\n\u001b[0;32m     70\u001b[0m           \u001b[1;31m# We get the node with the least cost (the cost (index) used depends on the algorithm)\u001b[0m\u001b[1;33m\u001b[0m\u001b[1;33m\u001b[0m\u001b[0m\n\u001b[1;32m---> 71\u001b[1;33m           \u001b[0mcurrentNode\u001b[0m \u001b[1;33m=\u001b[0m \u001b[0mself\u001b[0m\u001b[1;33m.\u001b[0m\u001b[0mopen\u001b[0m\u001b[1;33m.\u001b[0m\u001b[0mget\u001b[0m\u001b[1;33m(\u001b[0m\u001b[1;33m)\u001b[0m\u001b[1;33m[\u001b[0m\u001b[1;36m1\u001b[0m\u001b[1;33m]\u001b[0m\u001b[1;33m\u001b[0m\u001b[1;33m\u001b[0m\u001b[0m\n\u001b[0m\u001b[0;32m     72\u001b[0m \u001b[1;33m\u001b[0m\u001b[0m\n\u001b[0;32m     73\u001b[0m           \u001b[0mself\u001b[0m\u001b[1;33m.\u001b[0m\u001b[0mexploredNodes\u001b[0m \u001b[1;33m+=\u001b[0m \u001b[1;36m1\u001b[0m\u001b[1;33m\u001b[0m\u001b[1;33m\u001b[0m\u001b[0m\n",
            "\u001b[1;32m~\\AppData\\Local\\Programs\\Python\\Python310\\lib\\queue.py\u001b[0m in \u001b[0;36mget\u001b[1;34m(self, block, timeout)\u001b[0m\n\u001b[0;32m    163\u001b[0m         in that case).\n\u001b[0;32m    164\u001b[0m         '''\n\u001b[1;32m--> 165\u001b[1;33m         \u001b[1;32mwith\u001b[0m \u001b[0mself\u001b[0m\u001b[1;33m.\u001b[0m\u001b[0mnot_empty\u001b[0m\u001b[1;33m:\u001b[0m\u001b[1;33m\u001b[0m\u001b[1;33m\u001b[0m\u001b[0m\n\u001b[0m\u001b[0;32m    166\u001b[0m             \u001b[1;32mif\u001b[0m \u001b[1;32mnot\u001b[0m \u001b[0mblock\u001b[0m\u001b[1;33m:\u001b[0m\u001b[1;33m\u001b[0m\u001b[1;33m\u001b[0m\u001b[0m\n\u001b[0;32m    167\u001b[0m                 \u001b[1;32mif\u001b[0m \u001b[1;32mnot\u001b[0m \u001b[0mself\u001b[0m\u001b[1;33m.\u001b[0m\u001b[0m_qsize\u001b[0m\u001b[1;33m(\u001b[0m\u001b[1;33m)\u001b[0m\u001b[1;33m:\u001b[0m\u001b[1;33m\u001b[0m\u001b[1;33m\u001b[0m\u001b[0m\n",
            "\u001b[1;32m~\\AppData\\Local\\Programs\\Python\\Python310\\lib\\threading.py\u001b[0m in \u001b[0;36m__enter__\u001b[1;34m(self)\u001b[0m\n\u001b[0;32m    262\u001b[0m         \u001b[0mself\u001b[0m\u001b[1;33m.\u001b[0m\u001b[0m_waiters\u001b[0m\u001b[1;33m.\u001b[0m\u001b[0mclear\u001b[0m\u001b[1;33m(\u001b[0m\u001b[1;33m)\u001b[0m\u001b[1;33m\u001b[0m\u001b[1;33m\u001b[0m\u001b[0m\n\u001b[0;32m    263\u001b[0m \u001b[1;33m\u001b[0m\u001b[0m\n\u001b[1;32m--> 264\u001b[1;33m     \u001b[1;32mdef\u001b[0m \u001b[0m__enter__\u001b[0m\u001b[1;33m(\u001b[0m\u001b[0mself\u001b[0m\u001b[1;33m)\u001b[0m\u001b[1;33m:\u001b[0m\u001b[1;33m\u001b[0m\u001b[1;33m\u001b[0m\u001b[0m\n\u001b[0m\u001b[0;32m    265\u001b[0m         \u001b[1;32mreturn\u001b[0m \u001b[0mself\u001b[0m\u001b[1;33m.\u001b[0m\u001b[0m_lock\u001b[0m\u001b[1;33m.\u001b[0m\u001b[0m__enter__\u001b[0m\u001b[1;33m(\u001b[0m\u001b[1;33m)\u001b[0m\u001b[1;33m\u001b[0m\u001b[1;33m\u001b[0m\u001b[0m\n\u001b[0;32m    266\u001b[0m \u001b[1;33m\u001b[0m\u001b[0m\n",
            "\u001b[1;31mKeyboardInterrupt\u001b[0m: "
          ]
        }
      ],
      "source": [
        "rows = 25 \n",
        "cols = 25 \n",
        "seed = 777\n",
        "maxDivisions = 8 \n",
        "garbageCount = 25 \n",
        "algorithm = \"BestFirst\"\n",
        "heuristic = \"Javivi\"\n",
        "printProblemInstance = False\n",
        "\n",
        "path_sol = main(heuristic, printProblemInstance, rows, cols, seed, maxDivisions, garbageCount, algorithm)"
      ]
    }
  ],
  "metadata": {
    "colab": {
      "collapsed_sections": [],
      "name": "Assignment2_SSII.ipynb",
      "provenance": []
    },
    "interpreter": {
      "hash": "ac5e3256dbd3a8c764ce597597524d7cdb81fa5db25f7150465e2f8ce788b8e2"
    },
    "kernelspec": {
      "display_name": "Python 3.10.0 64-bit",
      "name": "python3"
    },
    "language_info": {
      "codemirror_mode": {
        "name": "ipython",
        "version": 3
      },
      "file_extension": ".py",
      "mimetype": "text/x-python",
      "name": "python",
      "nbconvert_exporter": "python",
      "pygments_lexer": "ipython3",
      "version": "3.10.0"
    }
  },
  "nbformat": 4,
  "nbformat_minor": 5
}
