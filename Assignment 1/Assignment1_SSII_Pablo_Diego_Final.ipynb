{
  "nbformat": 4,
  "nbformat_minor": 5,
  "metadata": {
    "kernelspec": {
      "display_name": "Python 3 (ipykernel)",
      "language": "python",
      "name": "python3"
    },
    "language_info": {
      "codemirror_mode": {
        "name": "ipython",
        "version": 3
      },
      "file_extension": ".py",
      "mimetype": "text/x-python",
      "name": "python",
      "nbconvert_exporter": "python",
      "pygments_lexer": "ipython3",
      "version": "3.9.6"
    },
    "colab": {
      "name": "Assignment1_SSII.ipynb",
      "provenance": [],
      "collapsed_sections": []
    }
  },
  "cells": [
    {
      "cell_type": "markdown",
      "metadata": {
        "id": "0906f322"
      },
      "source": [
        "<a id=\"inicio\"></a>\n",
        "<img src=\"./figs/barra_uclm_esiiab.png\" alt=\"Banner UCLM - ESIIAB\" align=\"right\">"
      ],
      "id": "0906f322"
    },
    {
      "cell_type": "markdown",
      "metadata": {
        "tags": [],
        "id": "75a230e2"
      },
      "source": [
        "<br><br><br>\n",
        "<h1><font color=\"#B30033\" size=5>Intelligent Systems - Course 2021-2022</font></h1>\n",
        "\n",
        "\n",
        "\n",
        "<h1><font color=\"#999999\" size=5>Assignment 1: Non Informed Search Algorithms</font></h1>\n",
        "\n",
        "\n",
        "<br><br>\n",
        "<div style=\"text-align: left\">\n",
        "<font color=\"##4E70BE\" size=3>Lecturers:</font><br>\n",
        "<ul>\n",
        "  <li><font color=\"#999999\" size=3>Guillermo Tomás Fernández Martín</font><br></li>\n",
        "  <li><font color=\"#999999\" size=3>José Antonio Gámez Martín</font><br></li>\n",
        "  <li><font color=\"#999999\" size=3>Ismael García Varea</font><br></li>\n",
        "  <li><font color=\"#999999\" size=3>Luis González Naharro</font><br></li>\n",
        "</ul>\n",
        "</div>\n",
        "\n",
        "<br>\n",
        "\n",
        "<font color=\"##4E70BE\" size=3>Students:</font><br>\n",
        "<ul>\n",
        "  <li><font color=\"#999999\" size=3>Pablo Lario Gómez</font><br></li>\n",
        "  <li><font color=\"#999999\" size=3>Diego Miguel López García</font><br></li>\n",
        "</ul>\n",
        "</div>\n",
        "\n",
        "<br>"
      ],
      "id": "75a230e2"
    },
    {
      "cell_type": "markdown",
      "metadata": {
        "id": "d52856f3"
      },
      "source": [
        "## Introduction\n",
        "In this assignment we will study and put into practice non informed search algorithms. To do that, some of the algorithms seen in unit 2 will be implemented and used to solve a particular problem: maze pathfinding.\n",
        "We will also analyze and compare the performance of the algorithms by running them over different instances of the problem."
      ],
      "id": "d52856f3"
    },
    {
      "cell_type": "markdown",
      "metadata": {
        "id": "c7196c10"
      },
      "source": [
        "## Problem description\n",
        "The maze is a grid of size N x M formed by a set of cells, some of which can be occupied by walls, which cannot be crossed. The rest of the cells will be empty and they will represent the free space where the robot can move horizontally or vertically. In addition, we can have cells with garbage, which must be cleaned by our agent, a vacuum cleaner robot. "
      ],
      "id": "c7196c10"
    },
    {
      "cell_type": "markdown",
      "metadata": {
        "id": "01c7ecdc"
      },
      "source": [
        "The objective of our robot is to clean the whole area as fast as possible. In other words: **find the shortest path to find all the garbage cells in the environment**. In order to implement our robot we have to take into account that: \n",
        "- The robot can start in a random cell of the map.\n",
        "- The robot can move horizontally or vertically in the maze.\n",
        "- The robot can not cross walls or go beyond the limits of the maze.\n",
        "- The robot will have to clean all the garbage cells found in the map, which will be automatically cleaned as soon as the robot arrives to those cells.\n",
        "- All the movements of the robot will have a cost of 1.\n",
        "- The search will finish once all garbage cells in the map have been cleaned."
      ],
      "id": "01c7ecdc"
    },
    {
      "cell_type": "markdown",
      "metadata": {
        "id": "1b7618ae"
      },
      "source": [
        "## Provided code\n",
        "\n",
        "In the following we provide you some of the clases, implemented in `Python` that will help you to develop this assignment. \n",
        "\n",
        "First, we will import the necessary classes we need from the Python libraries"
      ],
      "id": "1b7618ae"
    },
    {
      "cell_type": "code",
      "metadata": {
        "id": "03362428"
      },
      "source": [
        "import math\n",
        "import copy\n",
        "import time\n",
        "\n",
        "from abc import ABC, abstractmethod\n"
      ],
      "id": "03362428",
      "execution_count": 85,
      "outputs": []
    },
    {
      "cell_type": "markdown",
      "metadata": {
        "id": "a5ab3eee"
      },
      "source": [
        "Next, we will import some custom functions from the file `utils.py`. You don't need to modify those functions for the code to work, but feel free to have a look at them if you are curious."
      ],
      "id": "a5ab3eee"
    },
    {
      "cell_type": "code",
      "metadata": {
        "id": "2a296d75"
      },
      "source": [
        "from utils import *"
      ],
      "id": "2a296d75",
      "execution_count": 86,
      "outputs": []
    },
    {
      "cell_type": "markdown",
      "metadata": {
        "id": "32e0f143-b9a4-4203-b5cb-69c425ebcd46"
      },
      "source": [
        "Finally, we will import some third party libraries. We will use those to display the problem in a graphical environment. In order to do that, we will use the magic functions from jupyter to install the library from inside the notebook"
      ],
      "id": "32e0f143-b9a4-4203-b5cb-69c425ebcd46"
    },
    {
      "cell_type": "code",
      "metadata": {
        "colab": {
          "base_uri": "https://localhost:8080/"
        },
        "id": "1ec03523-7180-44c6-b61c-2a2ac0483e24",
        "outputId": "90ccdffd-86eb-4712-e1e4-aa0967236135"
      },
      "source": [
        "!pip install ipythonblocks"
      ],
      "id": "1ec03523-7180-44c6-b61c-2a2ac0483e24",
      "execution_count": 87,
      "outputs": [
        {
          "output_type": "stream",
          "name": "stdout",
          "text": [
            "Requirement already satisfied: ipythonblocks in /usr/local/lib/python3.7/dist-packages (1.9.0)\n",
            "Requirement already satisfied: ipython>=4.0 in /usr/local/lib/python3.7/dist-packages (from ipythonblocks) (5.5.0)\n",
            "Requirement already satisfied: requests>=1.0 in /usr/local/lib/python3.7/dist-packages (from ipythonblocks) (2.23.0)\n",
            "Requirement already satisfied: notebook>=4.0 in /usr/local/lib/python3.7/dist-packages (from ipythonblocks) (5.3.1)\n",
            "Requirement already satisfied: pygments in /usr/local/lib/python3.7/dist-packages (from ipython>=4.0->ipythonblocks) (2.6.1)\n",
            "Requirement already satisfied: traitlets>=4.2 in /usr/local/lib/python3.7/dist-packages (from ipython>=4.0->ipythonblocks) (5.1.0)\n",
            "Requirement already satisfied: decorator in /usr/local/lib/python3.7/dist-packages (from ipython>=4.0->ipythonblocks) (4.4.2)\n",
            "Requirement already satisfied: setuptools>=18.5 in /usr/local/lib/python3.7/dist-packages (from ipython>=4.0->ipythonblocks) (57.4.0)\n",
            "Requirement already satisfied: pexpect in /usr/local/lib/python3.7/dist-packages (from ipython>=4.0->ipythonblocks) (4.8.0)\n",
            "Requirement already satisfied: pickleshare in /usr/local/lib/python3.7/dist-packages (from ipython>=4.0->ipythonblocks) (0.7.5)\n",
            "Requirement already satisfied: prompt-toolkit<2.0.0,>=1.0.4 in /usr/local/lib/python3.7/dist-packages (from ipython>=4.0->ipythonblocks) (1.0.18)\n",
            "Requirement already satisfied: simplegeneric>0.8 in /usr/local/lib/python3.7/dist-packages (from ipython>=4.0->ipythonblocks) (0.8.1)\n",
            "Requirement already satisfied: nbformat in /usr/local/lib/python3.7/dist-packages (from notebook>=4.0->ipythonblocks) (5.1.3)\n",
            "Requirement already satisfied: jinja2 in /usr/local/lib/python3.7/dist-packages (from notebook>=4.0->ipythonblocks) (2.11.3)\n",
            "Requirement already satisfied: terminado>=0.8.1 in /usr/local/lib/python3.7/dist-packages (from notebook>=4.0->ipythonblocks) (0.12.1)\n",
            "Requirement already satisfied: Send2Trash in /usr/local/lib/python3.7/dist-packages (from notebook>=4.0->ipythonblocks) (1.8.0)\n",
            "Requirement already satisfied: tornado>=4 in /usr/local/lib/python3.7/dist-packages (from notebook>=4.0->ipythonblocks) (5.1.1)\n",
            "Requirement already satisfied: jupyter-client>=5.2.0 in /usr/local/lib/python3.7/dist-packages (from notebook>=4.0->ipythonblocks) (5.3.5)\n",
            "Requirement already satisfied: nbconvert in /usr/local/lib/python3.7/dist-packages (from notebook>=4.0->ipythonblocks) (5.6.1)\n",
            "Requirement already satisfied: jupyter-core>=4.4.0 in /usr/local/lib/python3.7/dist-packages (from notebook>=4.0->ipythonblocks) (4.8.1)\n",
            "Requirement already satisfied: ipykernel in /usr/local/lib/python3.7/dist-packages (from notebook>=4.0->ipythonblocks) (4.10.1)\n",
            "Requirement already satisfied: ipython-genutils in /usr/local/lib/python3.7/dist-packages (from notebook>=4.0->ipythonblocks) (0.2.0)\n",
            "Requirement already satisfied: pyzmq>=13 in /usr/local/lib/python3.7/dist-packages (from jupyter-client>=5.2.0->notebook>=4.0->ipythonblocks) (22.3.0)\n",
            "Requirement already satisfied: python-dateutil>=2.1 in /usr/local/lib/python3.7/dist-packages (from jupyter-client>=5.2.0->notebook>=4.0->ipythonblocks) (2.8.2)\n",
            "Requirement already satisfied: six>=1.9.0 in /usr/local/lib/python3.7/dist-packages (from prompt-toolkit<2.0.0,>=1.0.4->ipython>=4.0->ipythonblocks) (1.15.0)\n",
            "Requirement already satisfied: wcwidth in /usr/local/lib/python3.7/dist-packages (from prompt-toolkit<2.0.0,>=1.0.4->ipython>=4.0->ipythonblocks) (0.2.5)\n",
            "Requirement already satisfied: idna<3,>=2.5 in /usr/local/lib/python3.7/dist-packages (from requests>=1.0->ipythonblocks) (2.10)\n",
            "Requirement already satisfied: chardet<4,>=3.0.2 in /usr/local/lib/python3.7/dist-packages (from requests>=1.0->ipythonblocks) (3.0.4)\n",
            "Requirement already satisfied: urllib3!=1.25.0,!=1.25.1,<1.26,>=1.21.1 in /usr/local/lib/python3.7/dist-packages (from requests>=1.0->ipythonblocks) (1.24.3)\n",
            "Requirement already satisfied: certifi>=2017.4.17 in /usr/local/lib/python3.7/dist-packages (from requests>=1.0->ipythonblocks) (2021.5.30)\n",
            "Requirement already satisfied: ptyprocess in /usr/local/lib/python3.7/dist-packages (from terminado>=0.8.1->notebook>=4.0->ipythonblocks) (0.7.0)\n",
            "Requirement already satisfied: MarkupSafe>=0.23 in /usr/local/lib/python3.7/dist-packages (from jinja2->notebook>=4.0->ipythonblocks) (2.0.1)\n",
            "Requirement already satisfied: entrypoints>=0.2.2 in /usr/local/lib/python3.7/dist-packages (from nbconvert->notebook>=4.0->ipythonblocks) (0.3)\n",
            "Requirement already satisfied: defusedxml in /usr/local/lib/python3.7/dist-packages (from nbconvert->notebook>=4.0->ipythonblocks) (0.7.1)\n",
            "Requirement already satisfied: testpath in /usr/local/lib/python3.7/dist-packages (from nbconvert->notebook>=4.0->ipythonblocks) (0.5.0)\n",
            "Requirement already satisfied: mistune<2,>=0.8.1 in /usr/local/lib/python3.7/dist-packages (from nbconvert->notebook>=4.0->ipythonblocks) (0.8.4)\n",
            "Requirement already satisfied: bleach in /usr/local/lib/python3.7/dist-packages (from nbconvert->notebook>=4.0->ipythonblocks) (4.1.0)\n",
            "Requirement already satisfied: pandocfilters>=1.4.1 in /usr/local/lib/python3.7/dist-packages (from nbconvert->notebook>=4.0->ipythonblocks) (1.5.0)\n",
            "Requirement already satisfied: jsonschema!=2.5.0,>=2.4 in /usr/local/lib/python3.7/dist-packages (from nbformat->notebook>=4.0->ipythonblocks) (2.6.0)\n",
            "Requirement already satisfied: webencodings in /usr/local/lib/python3.7/dist-packages (from bleach->nbconvert->notebook>=4.0->ipythonblocks) (0.5.1)\n",
            "Requirement already satisfied: packaging in /usr/local/lib/python3.7/dist-packages (from bleach->nbconvert->notebook>=4.0->ipythonblocks) (21.0)\n",
            "Requirement already satisfied: pyparsing>=2.0.2 in /usr/local/lib/python3.7/dist-packages (from packaging->bleach->nbconvert->notebook>=4.0->ipythonblocks) (2.4.7)\n"
          ]
        }
      ]
    },
    {
      "cell_type": "code",
      "metadata": {
        "id": "a2f973ce-6270-40de-9263-7e045e9305d6"
      },
      "source": [
        "from ipythonblocks import BlockGrid\n",
        "from IPython.display import clear_output"
      ],
      "id": "a2f973ce-6270-40de-9263-7e045e9305d6",
      "execution_count": 88,
      "outputs": []
    },
    {
      "cell_type": "markdown",
      "metadata": {
        "id": "cedc447b"
      },
      "source": [
        "In order to complete the requested search algorithms, we provide you some fundamental classes: "
      ],
      "id": "cedc447b"
    },
    {
      "cell_type": "markdown",
      "metadata": {
        "id": "8e4525ac"
      },
      "source": [
        "#### Class `Action`\n",
        "This class provides the **representation of the actions** that will be performed by the robot. You don't have to modify the code of this class. The possible actions will be: \"UP\", \"DOWN\", \"RIGHT\", \"LEFT\"."
      ],
      "id": "8e4525ac"
    },
    {
      "cell_type": "code",
      "metadata": {
        "id": "ca68a21b"
      },
      "source": [
        "class Action:\n",
        "    #actions = [\"UP\", \"DOWN\", \"RIGHT\", \"LEFT\"]\n",
        "\n",
        "    def __init__(self, move):\n",
        "        self.move = move\n",
        "\n",
        "    def __str__(self):\n",
        "        return f\"({self.move})\"\n",
        "\n",
        "    def getCost(self):\n",
        "        return 1.0"
      ],
      "id": "ca68a21b",
      "execution_count": 89,
      "outputs": []
    },
    {
      "cell_type": "markdown",
      "metadata": {
        "id": "0166a409"
      },
      "source": [
        "#### Class `State`. \n",
        "This class provides the **representation of a state** in the search space. In this problem, a state is defined by the position of the robot and the garbages left in the maze. Note that the maze itself does not need to be part of the state given that it does not change during the search, i.e. walls are fixed during the search. You don't have to modify the code of this class.\n",
        "\n",
        "The class `State` has an `applyAction` method that, given a valid `Action`, returns a new `State` with the action applied."
      ],
      "id": "0166a409"
    },
    {
      "cell_type": "code",
      "metadata": {
        "id": "dd19d7e1"
      },
      "source": [
        "class State:\n",
        "\n",
        "    def __init__(self, pos, garbage):\n",
        "        self.pos = pos\n",
        "        self.garbage = garbage\n",
        "\n",
        "    # equals method. Returns true if the states are the same. \n",
        "    # Used for the hash table comparison, compares if both states are equal\n",
        "    def __eq__(self, state):\n",
        "        return self.pos == state.pos and self.garbage == state.garbage\n",
        "\n",
        "    def __str__(self):\n",
        "        return f\"Position: {self.pos}\\nGarbage: {self.garbage}\"\n",
        "\n",
        "    def __hash__(self):\n",
        "        h = 0\n",
        "        for g in self.garbage:\n",
        "            h += (math.pow(10,3) * (self.pos[0]+1) + (self.pos[1]+2))\n",
        "        return int(h)\n",
        "\n",
        "    def applyAction(self, action):\n",
        "        st = copy.deepcopy(self)\n",
        "        \n",
        "        if (action.move == \"UP\"):\n",
        "            st.pos = (st.pos[0]-1,st.pos[1])\n",
        "        elif (action.move == \"DOWN\"):\n",
        "            st.pos = (st.pos[0]+1,st.pos[1])\n",
        "        elif (action.move == \"RIGHT\"):\n",
        "            st.pos = (st.pos[0],st.pos[1]+1)\n",
        "        elif (action.move == \"LEFT\"):\n",
        "            st.pos = (st.pos[0],st.pos[1]-1)\n",
        "        else:\n",
        "            print(\"\\n*** ERROR ***: Action \" + action + \"  is not allowed .....\\n\")\n",
        "            sys.exit()\n",
        "            \n",
        "        # if the new position has garbage clean it\n",
        "        if (st.pos in st.garbage):\n",
        "            st.garbage.remove(st.pos)\n",
        "        \n",
        "        return st"
      ],
      "id": "dd19d7e1",
      "execution_count": 90,
      "outputs": []
    },
    {
      "cell_type": "markdown",
      "metadata": {
        "id": "2bd44eb5"
      },
      "source": [
        "#### Class `Node`. \n",
        "This class provides a **representation of a node** in the search tree/graph. It contains the state it represents, its parent node and the action taken to reach the current node. You don't have to modify this class. \n",
        "\n",
        "The class `Node` also has some methods to provide access to its attributes."
      ],
      "id": "2bd44eb5"
    },
    {
      "cell_type": "code",
      "metadata": {
        "id": "33347466"
      },
      "source": [
        "class Node:\n",
        "    def __init__(self, state, parent, action):\n",
        "        self.state = state # Must be State Class\n",
        "        self.parent = parent # Must be Node Class\n",
        "        self.action = action # Must be Action Class\n",
        "        self.depth = 0\n",
        "        self.gCost = 0.0\n",
        "\n",
        "    def __str__(self):\n",
        "        return f\"depth: {self.depth} {self.state}\"\n",
        "\n",
        "    def __eq__(self, other):\n",
        "        if not isinstance(other, Node):\n",
        "        # don't attempt to compare against unrelated types\n",
        "            return NotImplemented\n",
        "        return self.state == other.state\n",
        "\n",
        "    def getState(self):\n",
        "        return self.state\n",
        "\n",
        "    def getAction(self):\n",
        "        return self.action\n",
        "    \n",
        "    def getParent(self):\n",
        "        return self.parent\n",
        "\n",
        "    def getDepth(self):\n",
        "        return self.depth\n",
        "    \n",
        "    def getGCost(self):\n",
        "        return self.gCost"
      ],
      "id": "33347466",
      "execution_count": 91,
      "outputs": []
    },
    {
      "cell_type": "markdown",
      "metadata": {
        "id": "b2764c4b"
      },
      "source": [
        "#### Class `Problem`\n",
        "This class provides the **representation of the search problem**. It contains the size of the maze (`rows` and `cols`), the `initialState` and the `maze`. This class can read from a file an instance of the problem to solve, or it can generate a random instance using the size of the grid, the `seed`, the maximum number of divisions (walls) in the maze and the list of garbage cells. You don't have to modify this class. \n",
        "\n",
        "The class `Problem` also has some methods to provide access to the initial state, the possible actions and to check if a specific state is the final/goal."
      ],
      "id": "b2764c4b"
    },
    {
      "cell_type": "code",
      "metadata": {
        "id": "30f9c989"
      },
      "source": [
        "class Problem:\n",
        "\n",
        "    actions = [\"UP\", \"DOWN\", \"RIGHT\", \"LEFT\"]\n",
        "\n",
        "    def __init__(self, rows, cols, seed, maxDivisions, garbageCount, filename=\"\"):\n",
        "\n",
        "        if (filename != \"\"):\n",
        "            self.rows, self.cols, self.maze = readProblemInstance(filename)\n",
        "            print('Problem read with size',rows,'x',cols)\n",
        "        else:\n",
        "            self.rows = rows\n",
        "            self.cols = cols\n",
        "            self.maze = getProblemInstance(rows, cols, maxDivisions, garbageCount, seed)\n",
        "\n",
        "        self.garbage = []\n",
        "\n",
        "        for r in range(rows):\n",
        "            for c in range(cols):\n",
        "                if self.maze[r][c] == 2:\n",
        "                    init_point = (r,c)\n",
        "                elif self.maze[r][c] == 3:\n",
        "                    self.garbage.append((r,c))\n",
        "\n",
        "        self.initialState = State(init_point, self.garbage)\n",
        "\n",
        "    def getInitialState(self):\n",
        "        return self.initialState\n",
        "\n",
        "    def getActions(self):\n",
        "        return self.actions\n",
        "\n",
        "    def isGoal(self, s):\n",
        "        '''\n",
        "        check if the given state is final or not\n",
        "        '''\n",
        "        return s.garbage == []"
      ],
      "id": "30f9c989",
      "execution_count": 92,
      "outputs": []
    },
    {
      "cell_type": "markdown",
      "metadata": {
        "id": "75b836e0"
      },
      "source": [
        "## Implementation\n",
        "In the following we provide you some classes and pieces of code that you will have to complete as a part of this assignment.\n",
        "\n",
        "#### Class `Search`\n",
        "\n",
        "The `Search` class is in abstract class that contains some attributes:\n",
        "- The `problem`to solve.\n",
        "- The list of `open` nodes, i.e. nodes in the frontier.\n",
        "- The list of `closed` nodes to implement the graph search, which is implemented using a `set` data structure.\n",
        "- The attributes to account for the number of generated and expanded nodes, as well as the maximum number size of the closed and open 'lists' to know the maximum number of nodes stored simultaneously in memory. Theses attributes are helpful to estimate the time and memory complexity of the algorithms.\n",
        "\n",
        "This class also provides three methods:\n",
        "- `insertNode(self, node, node_list)`: this is an abstract method that has to be implemented by all (search) classes that inherit from `Search`. This method has already been implemented. You don't have to modify it, but you have to implement the correct version in each new search class you create.\n",
        "- `getSuccesors(self, node)`: this method implements the successors function and should return a list with all the valid successors of a given node. You must program this method.\n",
        "- `doSearch(self)`: this method implements the graph search you have studied in class. You must program this method. It also provides some statistics of the search process."
      ],
      "id": "75b836e0"
    },
    {
      "cell_type": "code",
      "metadata": {
        "id": "03711ab8"
      },
      "source": [
        "class Search(ABC):\n",
        "\n",
        "    def __init__(self,problem):\n",
        "        self.problem = problem\n",
        "        self.open = []\n",
        "        self.closed = set()\n",
        "\n",
        "        self.generatedNodes = 0\n",
        "        self.expandedNodes = 0\n",
        "        self.exploredMaxSize = 0\n",
        "        self.openMaxSize = 0\n",
        "\n",
        "    @abstractmethod\n",
        "    def insertNode(self, node, node_list):\n",
        "        pass\n",
        "\n",
        "    def getSuccesors(self, node):\n",
        "\n",
        "        self.expandedNodes += 1\n",
        "        suc = []\n",
        "        \n",
        "        for a in self.problem.getActions():\n",
        "            action = Action(a)\n",
        "            auxState = node.state.applyAction(action)\n",
        "\n",
        "            # We check if the state is inside the maze and not out of bounds\n",
        "            if (auxState.pos[0] < self.problem.rows and \n",
        "                auxState.pos[0] >= 0 and\n",
        "                auxState.pos[1] < self.problem.cols and\n",
        "                auxState.pos[1] >= 0):\n",
        "              cell = self.problem.maze[auxState.pos[0]][auxState.pos[1]]\n",
        "              \n",
        "              # We check if the new state will not lead to a wall\n",
        "              if cell != 1:\n",
        "                nodeAux = Node(node.state.applyAction(action), node, action)\n",
        "                suc.append(nodeAux)\n",
        "                self.generatedNodes += 1\n",
        "        \n",
        "        return suc\n",
        "\n",
        "    # Parameter limit is a number that refers to the limit that algorithms depthLimited\n",
        "    # and IterateDepthLimited use to know until when to stop.\n",
        "    def doSearch(self, limit):\n",
        "        totalCost = 0\n",
        "\n",
        "        self.limit = limit\n",
        "\n",
        "        current = Node(self.problem.getInitialState(), None, None)\n",
        "\n",
        "        actionSequence = []\n",
        "\n",
        "        self.insertNode(current,self.open)\n",
        "        self.generatedNodes += 1\n",
        "\n",
        "        finish = False\n",
        "        \n",
        "        while (self.open != []):\n",
        "            # We pick the first node stored in the list\n",
        "            current = self.open[0] \n",
        "\n",
        "            # We remove the node from the open list\n",
        "            self.open.remove(current) \n",
        "\n",
        "            # We check whether the node we have picked from open has been explored\n",
        "            if current.getState() not in self.closed: \n",
        "              # We check if the state of the node is the goal state we want\n",
        "              if self.problem.isGoal(current.getState()):\n",
        "                  # If it is a goal node, we finish and recover path\n",
        "                  finish = True\n",
        "                  break;\n",
        "            \n",
        "              suc = self.getSuccesors(current)\n",
        "              for s in suc:\n",
        "\n",
        "                if (s.getParent() != None):\n",
        "                  s.depth = s.getParent().getDepth() + 1\n",
        "\n",
        "                self.insertNode(s, self.open)\n",
        "\n",
        "              self.closed.add(current.getState())\n",
        "        \n",
        "        if finish:\n",
        "          while (current.getParent() != None):\n",
        "            actionSequence.append(current.getAction())\n",
        "            current = current.getParent();\n",
        "        \n",
        "        return actionSequence, self.generatedNodes, self.expandedNodes\n",
        "    "
      ],
      "id": "03711ab8",
      "execution_count": 93,
      "outputs": []
    },
    {
      "cell_type": "markdown",
      "metadata": {
        "id": "71cc5d61"
      },
      "source": [
        "#### Class `RandomSearch`\n",
        "The class `RandomSearch`, inherits from `Search` and implements a random search . Once the `getSuccessors(self,node)` and `doSearch(self)` methods have already been implemented in the parent class, here we only have to implement the `insertNode(self, node, node_list)` method, which in this case inserts the `node`into the `node_list` in a randomly selected position, i.e. not following any search strategy. This code is provided to you in the following cell, and it will allow you to test the implementation of the previous funcions as soon as you implement them."
      ],
      "id": "71cc5d61"
    },
    {
      "cell_type": "code",
      "metadata": {
        "id": "47b59028"
      },
      "source": [
        "class RandomSearch(Search):\n",
        "    def insertNode(self, node, node_list):\n",
        "        node_list.insert(random.randrange(len(node_list) + 1), node)"
      ],
      "id": "47b59028",
      "execution_count": 94,
      "outputs": []
    },
    {
      "cell_type": "code",
      "metadata": {
        "id": "vcyidTt1BoG6"
      },
      "source": [
        "def func():\n",
        "  return 1,[2,3]"
      ],
      "id": "vcyidTt1BoG6",
      "execution_count": 95,
      "outputs": []
    },
    {
      "cell_type": "code",
      "metadata": {
        "colab": {
          "base_uri": "https://localhost:8080/"
        },
        "id": "m6YA_5vLBr1x",
        "outputId": "11bccabc-2b7e-4b24-cde1-041cc7686dd6"
      },
      "source": [
        "a,b = func()\n",
        "a"
      ],
      "id": "m6YA_5vLBr1x",
      "execution_count": 96,
      "outputs": [
        {
          "output_type": "execute_result",
          "data": {
            "text/plain": [
              "1"
            ]
          },
          "metadata": {},
          "execution_count": 96
        }
      ]
    },
    {
      "cell_type": "markdown",
      "metadata": {
        "id": "88a27deb"
      },
      "source": [
        "#### Class `DepthFirst`, `BreadthFirst` and `DepthLimited`\n",
        "\n",
        "These three classes also inherit from `Search` and will implement the depth first, breadth first and depth limited search strategies.\n",
        "\n",
        "You have to implement these three classes.\n",
        "\n",
        "Optionally you might want to implement also the iterative depth limited search strategy (`IterativeDepthLimited`). That will be taken into account to improve your mark of the assigment."
      ],
      "id": "88a27deb"
    },
    {
      "cell_type": "code",
      "metadata": {
        "id": "e56b3b57"
      },
      "source": [
        "class DepthFirst(Search):\n",
        "    def insertNode(self, node, node_list):\n",
        "      node_list.insert(0, node)"
      ],
      "id": "e56b3b57",
      "execution_count": 97,
      "outputs": []
    },
    {
      "cell_type": "code",
      "metadata": {
        "id": "5a88f7e4"
      },
      "source": [
        "class BreadthFirst(Search):\n",
        "    def insertNode(self, node, node_list):      \n",
        "      node_list.append(node)"
      ],
      "id": "5a88f7e4",
      "execution_count": 98,
      "outputs": []
    },
    {
      "cell_type": "code",
      "metadata": {
        "id": "4477403b-af5c-4082-955f-a4701bcb766f"
      },
      "source": [
        "class DepthLimited(Search):\n",
        "    def insertNode(self, node, node_list):\n",
        "      if (node.getDepth() <= self.limit):\n",
        "        node_list.insert(0, node)"
      ],
      "id": "4477403b-af5c-4082-955f-a4701bcb766f",
      "execution_count": 99,
      "outputs": []
    },
    {
      "cell_type": "code",
      "metadata": {
        "id": "4211ed7f"
      },
      "source": [
        "class IterateDepthLimited(Search):\n",
        "    def insertNode(self, node, node_list):\n",
        "      if (node.getDepth() < self.limit):\n",
        "        node_list.insert(0, node)"
      ],
      "id": "4211ed7f",
      "execution_count": 107,
      "outputs": []
    },
    {
      "cell_type": "markdown",
      "metadata": {
        "id": "25fe1235"
      },
      "source": [
        "#### The `main` function\n",
        "\n",
        "Next, we provide you the `main` function that creates the problem and solves it using the search algorithm provided. This method should be used afterwards to carry out the experimentation to study the behaviour of the implemented algorithms for different values of the parameters provided (size of the maze, maximum number of walls, number of garbage cells, and algorithm)."
      ],
      "id": "25fe1235"
    },
    {
      "cell_type": "code",
      "metadata": {
        "id": "9717abf7"
      },
      "source": [
        "# We have included limit parameter in main so that it is easier for use to test\n",
        "# the code and generated statistics for DepthLimited and IterateDepthLimited algorithms\n",
        "def main(limit, rows, cols, seed, maxDivisions, garbageCount, algorithm, configFile=\"\"):\n",
        "    problem = Problem(rows, cols, seed, maxDivisions, garbageCount, configFile)\n",
        "\n",
        "    print(\"$ python assignment1 \" + str(problem.rows) + \" \" + str(problem.cols) + \" \" + str(seed) + \" \" + str(maxDivisions) + \" \" + str(garbageCount) + \" \" + algorithm + \" \" + configFile + \"\\n\")\n",
        "    print(\"Problem instance:\")\n",
        "    printMaze(problem.maze)\n",
        "    print(\"\")\n",
        "\n",
        "    search = None\n",
        "    i = 0\n",
        "\n",
        "    if algorithm == \"BreadthFirst\":\n",
        "        search = BreadthFirst(problem)\n",
        "    elif algorithm == \"DepthFirst\":\n",
        "        search = DepthFirst(problem)\n",
        "    elif algorithm == \"DepthLimited\":\n",
        "        search = DepthLimited(problem)\n",
        "        i = limit\n",
        "    elif algorithm == \"RandomSearch\":\n",
        "        search = RandomSearch(problem)\n",
        "    elif algorithm == \"IterateDepthLimited\":\n",
        "        search = IterateDepthLimited(problem)\n",
        "    else:\n",
        "        raise Exception\n",
        "\n",
        "    time_start = time.perf_counter()\n",
        "    \n",
        "    tGeneratedNodes = 0\n",
        "    tExpandedNodes = 0\n",
        "\n",
        "    path,generatedNodes,expandedNodes = search.doSearch(i)\n",
        "\n",
        "    if algorithm == \"IterateDepthLimited\":\n",
        "      print(\"---------------------------------------------------\")\n",
        "      print(\"i = \" + str(i) )\n",
        "      print(\"Nodos generados: \" + str(generatedNodes))\n",
        "      print(\"Nodos expandidos: \" + str(expandedNodes))\n",
        "\n",
        "    tGeneratedNodes += generatedNodes\n",
        "    tExpandedNodes += expandedNodes\n",
        "\n",
        "    if algorithm == \"IterateDepthLimited\":\n",
        "      while(path == []):\n",
        "        i += 1\n",
        "        print(\"---------------------------------------------------\")\n",
        "        print(\"i = \" + str(i) )\n",
        "        problem = Problem(rows, cols, seed, maxDivisions, garbageCount, configFile)\n",
        "        search = IterateDepthLimited(problem)\n",
        "        path,generatedNodes,expandedNodes = search.doSearch(i)\n",
        "        tGeneratedNodes += generatedNodes\n",
        "        tExpandedNodes += expandedNodes\n",
        "\n",
        "        if (path == []):\n",
        "          print(\"No se ha encontrado una solución al problema.\")\n",
        "\n",
        "        print(\"Nodos generados: \" + str(generatedNodes))\n",
        "        print(\"Nodos expandidos: \" + str(expandedNodes))\n",
        "\n",
        "    time_end = time.perf_counter()\n",
        "\n",
        "    if algorithm == \"IterateDepthLimited\":\n",
        "      print(\"\")\n",
        "\n",
        "    print(\"TOTAL VALUES OBTAINED\")\n",
        "    print(\"Generated nodes: \" + str(tGeneratedNodes))\n",
        "    print(\"Expanded nodes: \" + str(tExpandedNodes))\n",
        "\n",
        "    print(\"\")\n",
        "    print(\"Elapsed time: \" + str(time_end - time_start) + \" seconds\")\n",
        "\n",
        "    i = len(path) - 1\n",
        "    newPath = []\n",
        "    while (i >= 0):\n",
        "      newPath.append(path[i])\n",
        "      i -= 1\n",
        "\n",
        "    for a in newPath:\n",
        "      print(a)\n",
        "\n",
        "    return newPath, problem"
      ],
      "id": "9717abf7",
      "execution_count": 101,
      "outputs": []
    },
    {
      "cell_type": "markdown",
      "metadata": {
        "id": "ea50b188"
      },
      "source": [
        "#### Test your code\n",
        "\n",
        "Here you have a piece of code to test your implementation. For example, the code to execute a random search technique can be:"
      ],
      "id": "ea50b188"
    },
    {
      "cell_type": "code",
      "metadata": {
        "id": "41be3a60",
        "colab": {
          "base_uri": "https://localhost:8080/"
        },
        "outputId": "82522504-fc00-4904-d384-9df99b939273"
      },
      "source": [
        "# Parameter list\n",
        "\n",
        "rows = 4\n",
        "cols =4\n",
        "seed = 2\n",
        "maxDivisions = 1\n",
        "garbageCount = 1\n",
        "limit = 6\n",
        "algorithm = \"IterateDepthLimited\"\n",
        "\n",
        "path_sol, problem_instance = main(limit, rows, cols, seed, maxDivisions, garbageCount, algorithm)"
      ],
      "id": "41be3a60",
      "execution_count": 108,
      "outputs": [
        {
          "output_type": "stream",
          "name": "stdout",
          "text": [
            "$ python assignment1 4 4 2 1 1 IterateDepthLimited \n",
            "\n",
            "Problem instance:\n",
            "[3, 0, 0, 0]\n",
            "[0, 0, 0, 0]\n",
            "[2, 0, 0, 0]\n",
            "[0, 0, 0, 0]\n",
            "\n",
            "---------------------------------------------------\n",
            "i = 0\n",
            "Nodos generados: 1\n",
            "Nodos expandidos: 0\n",
            "---------------------------------------------------\n",
            "i = 1\n",
            "No se ha encontrado una solución al problema.\n",
            "Nodos generados: 4\n",
            "Nodos expandidos: 1\n",
            "---------------------------------------------------\n",
            "i = 2\n",
            "No se ha encontrado una solución al problema.\n",
            "Nodos generados: 13\n",
            "Nodos expandidos: 4\n",
            "---------------------------------------------------\n",
            "i = 3\n",
            "Nodos generados: 24\n",
            "Nodos expandidos: 7\n",
            "\n",
            "TOTAL VALUES OBTAINED\n",
            "Generated nodes: 42\n",
            "Expanded nodes: 12\n",
            "\n",
            "Elapsed time: 0.007540335000157938 seconds\n",
            "(UP)\n",
            "(UP)\n"
          ]
        }
      ]
    },
    {
      "cell_type": "markdown",
      "metadata": {
        "id": "a9ab0644"
      },
      "source": [
        "#### Printing the result\n",
        "\n",
        "Here we provide you some code to display the maze and the path carried out by the robot (the green cell) to solve the instance of the problem. Walls are represented as black cells, and garbage with brown cells."
      ],
      "id": "a9ab0644"
    },
    {
      "cell_type": "code",
      "metadata": {
        "id": "f97f26c2"
      },
      "source": [
        "def render_maze(grid, maze, garbage):\n",
        "    height, width = len(maze), len(maze[0])\n",
        "    # Render maze\n",
        "    for i in range(width):\n",
        "        for j in range(height):\n",
        "            grid[j,i] = (200,200,200) if maze[j][i] in [0,2,3] else (0,0,0)\n",
        "\n",
        "    # Render garbage in maze\n",
        "    for g in garbage:\n",
        "        grid[g[0],g[1]] = (139,69,19)\n",
        "        \n",
        "def find_agent(maze, width, height):\n",
        "    for i in range(width):\n",
        "        for j in range(height):\n",
        "            if (maze[j][i] == 2):\n",
        "                return (i,j)\n",
        "\n",
        "def render_path(path, maze, garbage):\n",
        "    height, width = len(maze), len(maze[0])\n",
        "    solution_grid = BlockGrid(width, height, fill=(200, 200, 200))\n",
        "    \n",
        "    movementDict = {'DOWN':(0,1), 'UP':(0,-1), 'LEFT':(-1,0), 'RIGHT':(1,0)}\n",
        "    agentPos = find_agent(maze, width, height)\n",
        "    garbageRender = copy.deepcopy(garbage)\n",
        "    \n",
        "    # Initial position rendering\n",
        "    render_maze(solution_grid, maze, garbageRender)\n",
        "    solution_grid[agentPos[1],agentPos[0]] = (0, 255, 0)\n",
        "    solution_grid.show()\n",
        "    clear_output(wait=True)\n",
        "    time.sleep(0.1)\n",
        "    \n",
        "    for action in path:\n",
        "        # Update agent position\n",
        "        agentPos = (agentPos[0] + movementDict[action.move][0], agentPos[1] + movementDict[action.move][1])\n",
        "        \n",
        "        # Update garbage list\n",
        "        if ((agentPos[1], agentPos[0]) in garbageRender):\n",
        "            garbageRender.remove((agentPos[1], agentPos[0]))\n",
        "        \n",
        "        # Render maze\n",
        "        render_maze(solution_grid, maze, garbageRender)\n",
        "        \n",
        "        # Render agent, and update its position and the garbage list\n",
        "        solution_grid[agentPos[1],agentPos[0]] = (0,255,0)\n",
        "        \n",
        "        solution_grid.show()\n",
        "        clear_output(wait=True)\n",
        "        time.sleep(0.1)"
      ],
      "id": "f97f26c2",
      "execution_count": 103,
      "outputs": []
    },
    {
      "cell_type": "code",
      "metadata": {
        "id": "2885bb36",
        "colab": {
          "base_uri": "https://localhost:8080/",
          "height": 113
        },
        "outputId": "bfd09c56-8eb9-40a2-efc0-09de55e5a784"
      },
      "source": [
        "render_path(path_sol, problem_instance.maze, problem_instance.garbage)"
      ],
      "id": "2885bb36",
      "execution_count": 104,
      "outputs": [
        {
          "output_type": "display_data",
          "data": {
            "text/html": [
              "<style type=\"text/css\">table.blockgrid {border: none;} .blockgrid tr {border: none;} .blockgrid td {padding: 0px;} #blocksa3b33342-e347-4ef0-a729-37cfcee067eb td {border: 1px solid white;}</style><table id=\"blocksa3b33342-e347-4ef0-a729-37cfcee067eb\" class=\"blockgrid\"><tbody><tr><td title=\"Index: [0, 0]&#10;Color: (0, 255, 0)\" style=\"width: 20px; height: 20px;background-color: rgb(0, 255, 0);\"></td><td title=\"Index: [0, 1]&#10;Color: (200, 200, 200)\" style=\"width: 20px; height: 20px;background-color: rgb(200, 200, 200);\"></td><td title=\"Index: [0, 2]&#10;Color: (200, 200, 200)\" style=\"width: 20px; height: 20px;background-color: rgb(200, 200, 200);\"></td><td title=\"Index: [0, 3]&#10;Color: (200, 200, 200)\" style=\"width: 20px; height: 20px;background-color: rgb(200, 200, 200);\"></td></tr><tr><td title=\"Index: [1, 0]&#10;Color: (200, 200, 200)\" style=\"width: 20px; height: 20px;background-color: rgb(200, 200, 200);\"></td><td title=\"Index: [1, 1]&#10;Color: (200, 200, 200)\" style=\"width: 20px; height: 20px;background-color: rgb(200, 200, 200);\"></td><td title=\"Index: [1, 2]&#10;Color: (200, 200, 200)\" style=\"width: 20px; height: 20px;background-color: rgb(200, 200, 200);\"></td><td title=\"Index: [1, 3]&#10;Color: (200, 200, 200)\" style=\"width: 20px; height: 20px;background-color: rgb(200, 200, 200);\"></td></tr><tr><td title=\"Index: [2, 0]&#10;Color: (200, 200, 200)\" style=\"width: 20px; height: 20px;background-color: rgb(200, 200, 200);\"></td><td title=\"Index: [2, 1]&#10;Color: (200, 200, 200)\" style=\"width: 20px; height: 20px;background-color: rgb(200, 200, 200);\"></td><td title=\"Index: [2, 2]&#10;Color: (200, 200, 200)\" style=\"width: 20px; height: 20px;background-color: rgb(200, 200, 200);\"></td><td title=\"Index: [2, 3]&#10;Color: (200, 200, 200)\" style=\"width: 20px; height: 20px;background-color: rgb(200, 200, 200);\"></td></tr><tr><td title=\"Index: [3, 0]&#10;Color: (200, 200, 200)\" style=\"width: 20px; height: 20px;background-color: rgb(200, 200, 200);\"></td><td title=\"Index: [3, 1]&#10;Color: (200, 200, 200)\" style=\"width: 20px; height: 20px;background-color: rgb(200, 200, 200);\"></td><td title=\"Index: [3, 2]&#10;Color: (200, 200, 200)\" style=\"width: 20px; height: 20px;background-color: rgb(200, 200, 200);\"></td><td title=\"Index: [3, 3]&#10;Color: (200, 200, 200)\" style=\"width: 20px; height: 20px;background-color: rgb(200, 200, 200);\"></td></tr></tbody></table>"
            ],
            "text/plain": [
              "<IPython.core.display.HTML object>"
            ]
          },
          "metadata": {}
        }
      ]
    },
    {
      "cell_type": "markdown",
      "metadata": {
        "id": "0ee23fba"
      },
      "source": [
        "You can easily try different instances of the problem just by changing the parameters when you call both the `main(...)` function and the `render_path(...)` function:"
      ],
      "id": "0ee23fba"
    },
    {
      "cell_type": "code",
      "metadata": {
        "id": "7552b6e4"
      },
      "source": [
        "# path_sol, problem_instance = main(15, 15, 2021, 15, 6, 'RandomSearch')"
      ],
      "id": "7552b6e4",
      "execution_count": 105,
      "outputs": []
    },
    {
      "cell_type": "code",
      "metadata": {
        "id": "78b935b3"
      },
      "source": [
        "# render_path(path_sol, problem_instance.maze, problem_instance.garbage)"
      ],
      "id": "78b935b3",
      "execution_count": 106,
      "outputs": []
    },
    {
      "cell_type": "markdown",
      "metadata": {
        "id": "931be86d"
      },
      "source": [
        "## Experimental results\n",
        "\n",
        "Once the algorithms have been implemented, you must study their performance. In order to do that, you must compare the quality of the solutions obtained, as well as the number of expanded nodes for instances of different maze sizes, number of walls and number of garbage cells.\n",
        "\n",
        "Please, use new cells to insert code to carry out the experimental results and study of the algorithms."
      ],
      "id": "931be86d"
    },
    {
      "cell_type": "code",
      "metadata": {
        "id": "aaef8818"
      },
      "source": [
        ""
      ],
      "id": "aaef8818",
      "execution_count": 106,
      "outputs": []
    }
  ]
}